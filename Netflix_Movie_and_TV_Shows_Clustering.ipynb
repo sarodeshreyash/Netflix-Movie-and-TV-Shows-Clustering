{
  "nbformat": 4,
  "nbformat_minor": 0,
  "metadata": {
    "colab": {
      "provenance": [],
      "authorship_tag": "ABX9TyOHWlFtc7WZXQCr63U0ARy+"
    },
    "kernelspec": {
      "name": "python3",
      "display_name": "Python 3"
    },
    "language_info": {
      "name": "python"
    }
  },
  "cells": [
    {
      "cell_type": "markdown",
      "source": [
        "# **Project Name**    - Netflix Movie and TV Shows Clustering"
      ],
      "metadata": {
        "id": "Nzi6w9doXt9n"
      }
    },
    {
      "cell_type": "markdown",
      "source": [
        "**Project Type** - Unsupervised Machine Learning\n",
        "\n",
        "**Contribution** - Team\n",
        "\n",
        "**Team Member 1** - Shreyash Sarode\n",
        "\n",
        "**Team Member 2** - Pradnya Pagar\n",
        "\n",
        "**Team Member 3** - Tushar Khairnar\n",
        "\n",
        "**Team Member 4** - Taha Nakedar"
      ],
      "metadata": {
        "id": "wpQuFYAiXzUe"
      }
    },
    {
      "cell_type": "markdown",
      "source": [
        "# **Project Summary -**"
      ],
      "metadata": {
        "id": "iIStn7rFYGWS"
      }
    },
    {
      "cell_type": "markdown",
      "source": [
        "![Netflix-logo-red-black-png.png](data:image/png;base64,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)\n",
        "\n",
        "\n",
        "\n",
        "\n",
        "\n",
        "\n",
        "\n",
        "\n",
        "\n",
        "\n",
        "\n",
        "\n",
        "\n",
        "*Netflix, the world’s largest on-demand internet streaming media and online DVD movie rental service provider.it Founded August 29, 1997, in Los Gatos, California by Marc and Reed. It has 69 million members in over 60 countries enjoying more than 100 million hours of TV shows and movies per day Netflix is the world’s leading internet entertainment service with enjoying TV series, documentaries, and feature films across a wide variety of genres and languages. I was curious to analyze the content released in Netflix platform which led me to create these simple, interactive, and exciting visualizations and find similar groups of people.*\n",
        "\n",
        "*This dataset consists of tv shows and movies available on Netflix as of 2019. The dataset is collected from Fixable which is a third-party Netflix search engine. In 2018, they released an interesting report which shows that the number of TV shows on Netflix has nearly tripled since 2010. The streaming service’s number of movies has decreased by more than 2,000 titles since 2010, while its number of TV shows has nearly tripled. It will be interesting to explore what all other insights can be obtained from the same dataset. Integrating this dataset with other external datasets such as IMDB ratings, rotten tomatoes can also provide many interesting findings.*\n",
        "\n",
        "\n",
        "*In this project, we worked on a text clustering problem where we had to classify/group the Netflix movie/shows into certain clusters such that the shows within a cluster are similar to each other and the shows in different clusters are dissimilar to each other.*\n",
        "\n",
        "- *The dataset contained about 7787 records, and 11 attributes.* \n",
        "\n",
        "- *In the initial phase, we have focused more on the data cleaning and analyzed data in various categories and then we did exploratory data analysis (EDA).*\n",
        "\n",
        "- *We Created cluster using following attributes like director, cast, country, genre, rating and description. These attributes were tokenized, preprocessed, and then vectorized using TFIDF vectorizer.*\n",
        "\n",
        "- *We used Principal Component Analysis (PCA) to handle the curse of dimensionality.*\n",
        "\n",
        "- *We built Two types of clusters using the K-Means Clustering and Agglomerative Heirachycal clustering algorithm and find out optimal number of clusters using diffrent technique such as elbow method, silhoutte score and dendogram etc.*\n",
        "\n",
        "- *A content based recommender system was built using the similarity matrix obtained after using cosine similarity. This recommender system will make 10 recommendations to the user based on the type of show they watched.*"
      ],
      "metadata": {
        "id": "sN7KqTD4YOHr"
      }
    },
    {
      "cell_type": "markdown",
      "source": [
        "# **GitHub Link** -"
      ],
      "metadata": {
        "id": "dsZzSiIoYUXe"
      }
    },
    {
      "cell_type": "markdown",
      "source": [
        "# **Problem Statement**\n"
      ],
      "metadata": {
        "id": "5cAS9vo1YXA5"
      }
    },
    {
      "cell_type": "markdown",
      "source": [
        "<b>This dataset consists of tv shows and movies available on Netflix as of 2019. The dataset is collected from Flixable which is a third-party Netflix search engine.\n",
        "\n",
        "In 2018, they released an interesting report which shows that the number of TV shows on Netflix has nearly tripled since 2010. The streaming service’s number of movies has decreased by more than 2,000 titles since 2010, while its number of TV shows has nearly tripled. It will be interesting to explore what all other insights can be obtained from the same dataset.\n",
        "\n",
        "Integrating this dataset with other external datasets such as IMDB ratings, rotten tomatoes can also provide many interesting findings."
      ],
      "metadata": {
        "id": "JhYPpLS_Yc2-"
      }
    },
    {
      "cell_type": "markdown",
      "source": [
        "# **General Guidelines** : -  "
      ],
      "metadata": {
        "id": "YuDw0CeTYf0F"
      }
    },
    {
      "cell_type": "markdown",
      "source": [
        "1.   Well-structured, formatted, and commented code is required. \n",
        "2.   Exception Handling, Production Grade Code & Deployment Ready Code will be a plus. Those students will be awarded some additional credits. \n",
        "     \n",
        "     The additional credits will have advantages over other students during Star Student selection.\n",
        "       \n",
        "             [ Note: - Deployment Ready Code is defined as, the whole .ipynb notebook should be executable in one go\n",
        "                       without a single error logged. ]\n",
        "\n",
        "3.   Each and every logic should have proper comments.\n",
        "4. You may add as many number of charts you want. Make Sure for each and every chart the following format should be answered.\n",
        "        \n",
        "\n",
        "```\n",
        "# Chart visualization code\n",
        "```\n",
        "            \n",
        "\n",
        "*   Why did you pick the specific chart?\n",
        "*   What is/are the insight(s) found from the chart?\n",
        "* Will the gained insights help creating a positive business impact? \n",
        "Are there any insights that lead to negative growth? Justify with specific reason.\n",
        "\n",
        "5. You have to create at least 15 logical & meaningful charts having important insights.\n",
        "\n",
        "\n",
        "[ Hints : - Do the Vizualization in  a structured way while following \"UBM\" Rule. \n",
        "\n",
        "U - Univariate Analysis,\n",
        "\n",
        "B - Bivariate Analysis (Numerical - Categorical, Numerical - Numerical, Categorical - Categorical)\n",
        "\n",
        "M - Multivariate Analysis\n",
        " ]\n",
        "\n",
        "\n",
        "\n",
        "\n",
        "\n",
        "6. You may add more ml algorithms for model creation. Make sure for each and every algorithm, the following format should be answered.\n",
        "\n",
        "\n",
        "*   Explain the ML Model used and it's performance using Evaluation metric Score Chart.\n",
        "\n",
        "\n",
        "*   Cross- Validation & Hyperparameter Tuning\n",
        "\n",
        "*   Have you seen any improvement? Note down the improvement with updates Evaluation metric Score Chart.\n",
        "\n",
        "*   Explain each evaluation metric's indication towards business and the business impact pf the ML model used.\n"
      ],
      "metadata": {
        "id": "EJM9vMOsYnHI"
      }
    },
    {
      "cell_type": "markdown",
      "source": [
        "# ***Let's Begin !***"
      ],
      "metadata": {
        "id": "zbyw588yYsdY"
      }
    },
    {
      "cell_type": "markdown",
      "source": [
        "## ***1. Know Your Data***"
      ],
      "metadata": {
        "id": "QD0B8yXdYvUB"
      }
    },
    {
      "cell_type": "markdown",
      "source": [
        "### Import Libraries"
      ],
      "metadata": {
        "id": "hDR1wnVpYyVR"
      }
    },
    {
      "cell_type": "code",
      "execution_count": 1,
      "metadata": {
        "colab": {
          "base_uri": "https://localhost:8080/"
        },
        "id": "cu6TK2ezWInP",
        "outputId": "a9462977-5b98-4598-9384-7cdbb161b7cf"
      },
      "outputs": [
        {
          "output_type": "stream",
          "name": "stderr",
          "text": [
            "[nltk_data] Downloading package wordnet to /root/nltk_data...\n",
            "[nltk_data] Downloading package stopwords to /root/nltk_data...\n",
            "[nltk_data]   Unzipping corpora/stopwords.zip.\n",
            "[nltk_data] Downloading package omw-1.4 to /root/nltk_data...\n"
          ]
        }
      ],
      "source": [
        "# Import Libraries\n",
        "\n",
        "import numpy as np\n",
        "import pandas as pd\n",
        "from numpy import math\n",
        "import seaborn as sns\n",
        "import matplotlib.pyplot as plt\n",
        "import matplotlib.ticker as mtick\n",
        "from matplotlib.pyplot import figure\n",
        "import plotly.graph_objects as go\n",
        "import plotly.offline as py\n",
        "import plotly.express as px\n",
        "from datetime import datetime as dt\n",
        "\n",
        "from wordcloud import WordCloud, STOPWORDS\n",
        "import re, string, unicodedata\n",
        "\n",
        "import nltk\n",
        "from bs4 import BeautifulSoup\n",
        "from nltk import word_tokenize, sent_tokenize\n",
        "from nltk.corpus import stopwords\n",
        "from nltk.stem import LancasterStemmer, WordNetLemmatizer\n",
        "from nltk.stem import WordNetLemmatizer\n",
        "from sklearn.feature_extraction.text import TfidfVectorizer\n",
        "from sklearn.decomposition import PCA\n",
        "\n",
        "from nltk.stem import WordNetLemmatizer\n",
        "nltk.download('wordnet')\n",
        "import nltk\n",
        "nltk.download('stopwords')\n",
        "from nltk.corpus import stopwords\n",
        "import string\n",
        "string.punctuation\n",
        "nltk.download('omw-1.4')\n",
        "from nltk.tokenize import TweetTokenizer\n",
        "\n",
        "from sklearn.cluster import KMeans\n",
        "from sklearn.metrics import silhouette_score\n",
        "from sklearn.cluster import AgglomerativeClustering\n",
        "import scipy.cluster.hierarchy as shc\n",
        "\n",
        "from sklearn.feature_extraction.text import CountVectorizer\n",
        "from sklearn.metrics.pairwise import cosine_similarity\n",
        "\n",
        "import warnings\n",
        "warnings.filterwarnings('ignore')\n",
        "\n",
        "%matplotlib inline\n",
        "sns.set()"
      ]
    },
    {
      "cell_type": "markdown",
      "source": [
        "### Dataset Loading"
      ],
      "metadata": {
        "id": "uner7zToY5Yq"
      }
    },
    {
      "cell_type": "code",
      "source": [
        "# mounting drive\n",
        "from google.colab import drive\n",
        "drive.mount('/content/drive')"
      ],
      "metadata": {
        "colab": {
          "base_uri": "https://localhost:8080/"
        },
        "id": "sES4bqCNY5Kf",
        "outputId": "cc46bde8-89bf-497b-8ba3-eddfcddc1f08"
      },
      "execution_count": 2,
      "outputs": [
        {
          "output_type": "stream",
          "name": "stdout",
          "text": [
            "Mounted at /content/drive\n"
          ]
        }
      ]
    },
    {
      "cell_type": "code",
      "source": [
        "# Load Dataset\n",
        "file_path= ('/content/drive/MyDrive/Almabetter/capstone 4 netflix/NETFLIX MOVIES AND TV SHOWS CLUSTERING.csv')\n",
        "netflix_df = pd.read_csv(file_path)"
      ],
      "metadata": {
        "id": "t7_Unhp3Y-Xa"
      },
      "execution_count": 3,
      "outputs": []
    },
    {
      "cell_type": "code",
      "source": [
        "model_df=pd.read_csv(file_path)\n",
        "netflix_df=model_df.copy()"
      ],
      "metadata": {
        "id": "eYfgdVfGC3UE"
      },
      "execution_count": 4,
      "outputs": []
    },
    {
      "cell_type": "markdown",
      "source": [
        "### Dataset First View"
      ],
      "metadata": {
        "id": "SWC2ySPGZAwS"
      }
    },
    {
      "cell_type": "code",
      "source": [
        "# Dataset First Look\n",
        "netflix_df.head()"
      ],
      "metadata": {
        "colab": {
          "base_uri": "https://localhost:8080/",
          "height": 337
        },
        "id": "lFH4xM0MZD4Y",
        "outputId": "cd605877-187c-4fb7-edb7-6d9bf707ebdf"
      },
      "execution_count": 5,
      "outputs": [
        {
          "output_type": "execute_result",
          "data": {
            "text/plain": [
              "  show_id     type  title           director  \\\n",
              "0      s1  TV Show     3%                NaN   \n",
              "1      s2    Movie   7:19  Jorge Michel Grau   \n",
              "2      s3    Movie  23:59       Gilbert Chan   \n",
              "3      s4    Movie      9        Shane Acker   \n",
              "4      s5    Movie     21     Robert Luketic   \n",
              "\n",
              "                                                cast        country  \\\n",
              "0  João Miguel, Bianca Comparato, Michel Gomes, R...         Brazil   \n",
              "1  Demián Bichir, Héctor Bonilla, Oscar Serrano, ...         Mexico   \n",
              "2  Tedd Chan, Stella Chung, Henley Hii, Lawrence ...      Singapore   \n",
              "3  Elijah Wood, John C. Reilly, Jennifer Connelly...  United States   \n",
              "4  Jim Sturgess, Kevin Spacey, Kate Bosworth, Aar...  United States   \n",
              "\n",
              "          date_added  release_year rating   duration  \\\n",
              "0    August 14, 2020          2020  TV-MA  4 Seasons   \n",
              "1  December 23, 2016          2016  TV-MA     93 min   \n",
              "2  December 20, 2018          2011      R     78 min   \n",
              "3  November 16, 2017          2009  PG-13     80 min   \n",
              "4    January 1, 2020          2008  PG-13    123 min   \n",
              "\n",
              "                                           listed_in  \\\n",
              "0  International TV Shows, TV Dramas, TV Sci-Fi &...   \n",
              "1                       Dramas, International Movies   \n",
              "2                Horror Movies, International Movies   \n",
              "3  Action & Adventure, Independent Movies, Sci-Fi...   \n",
              "4                                             Dramas   \n",
              "\n",
              "                                         description  \n",
              "0  In a future where the elite inhabit an island ...  \n",
              "1  After a devastating earthquake hits Mexico Cit...  \n",
              "2  When an army recruit is found dead, his fellow...  \n",
              "3  In a postapocalyptic world, rag-doll robots hi...  \n",
              "4  A brilliant group of students become card-coun...  "
            ],
            "text/html": [
              "\n",
              "  <div id=\"df-48dce3b7-a663-4fa4-b28b-a58d026ff94f\">\n",
              "    <div class=\"colab-df-container\">\n",
              "      <div>\n",
              "<style scoped>\n",
              "    .dataframe tbody tr th:only-of-type {\n",
              "        vertical-align: middle;\n",
              "    }\n",
              "\n",
              "    .dataframe tbody tr th {\n",
              "        vertical-align: top;\n",
              "    }\n",
              "\n",
              "    .dataframe thead th {\n",
              "        text-align: right;\n",
              "    }\n",
              "</style>\n",
              "<table border=\"1\" class=\"dataframe\">\n",
              "  <thead>\n",
              "    <tr style=\"text-align: right;\">\n",
              "      <th></th>\n",
              "      <th>show_id</th>\n",
              "      <th>type</th>\n",
              "      <th>title</th>\n",
              "      <th>director</th>\n",
              "      <th>cast</th>\n",
              "      <th>country</th>\n",
              "      <th>date_added</th>\n",
              "      <th>release_year</th>\n",
              "      <th>rating</th>\n",
              "      <th>duration</th>\n",
              "      <th>listed_in</th>\n",
              "      <th>description</th>\n",
              "    </tr>\n",
              "  </thead>\n",
              "  <tbody>\n",
              "    <tr>\n",
              "      <th>0</th>\n",
              "      <td>s1</td>\n",
              "      <td>TV Show</td>\n",
              "      <td>3%</td>\n",
              "      <td>NaN</td>\n",
              "      <td>João Miguel, Bianca Comparato, Michel Gomes, R...</td>\n",
              "      <td>Brazil</td>\n",
              "      <td>August 14, 2020</td>\n",
              "      <td>2020</td>\n",
              "      <td>TV-MA</td>\n",
              "      <td>4 Seasons</td>\n",
              "      <td>International TV Shows, TV Dramas, TV Sci-Fi &amp;...</td>\n",
              "      <td>In a future where the elite inhabit an island ...</td>\n",
              "    </tr>\n",
              "    <tr>\n",
              "      <th>1</th>\n",
              "      <td>s2</td>\n",
              "      <td>Movie</td>\n",
              "      <td>7:19</td>\n",
              "      <td>Jorge Michel Grau</td>\n",
              "      <td>Demián Bichir, Héctor Bonilla, Oscar Serrano, ...</td>\n",
              "      <td>Mexico</td>\n",
              "      <td>December 23, 2016</td>\n",
              "      <td>2016</td>\n",
              "      <td>TV-MA</td>\n",
              "      <td>93 min</td>\n",
              "      <td>Dramas, International Movies</td>\n",
              "      <td>After a devastating earthquake hits Mexico Cit...</td>\n",
              "    </tr>\n",
              "    <tr>\n",
              "      <th>2</th>\n",
              "      <td>s3</td>\n",
              "      <td>Movie</td>\n",
              "      <td>23:59</td>\n",
              "      <td>Gilbert Chan</td>\n",
              "      <td>Tedd Chan, Stella Chung, Henley Hii, Lawrence ...</td>\n",
              "      <td>Singapore</td>\n",
              "      <td>December 20, 2018</td>\n",
              "      <td>2011</td>\n",
              "      <td>R</td>\n",
              "      <td>78 min</td>\n",
              "      <td>Horror Movies, International Movies</td>\n",
              "      <td>When an army recruit is found dead, his fellow...</td>\n",
              "    </tr>\n",
              "    <tr>\n",
              "      <th>3</th>\n",
              "      <td>s4</td>\n",
              "      <td>Movie</td>\n",
              "      <td>9</td>\n",
              "      <td>Shane Acker</td>\n",
              "      <td>Elijah Wood, John C. Reilly, Jennifer Connelly...</td>\n",
              "      <td>United States</td>\n",
              "      <td>November 16, 2017</td>\n",
              "      <td>2009</td>\n",
              "      <td>PG-13</td>\n",
              "      <td>80 min</td>\n",
              "      <td>Action &amp; Adventure, Independent Movies, Sci-Fi...</td>\n",
              "      <td>In a postapocalyptic world, rag-doll robots hi...</td>\n",
              "    </tr>\n",
              "    <tr>\n",
              "      <th>4</th>\n",
              "      <td>s5</td>\n",
              "      <td>Movie</td>\n",
              "      <td>21</td>\n",
              "      <td>Robert Luketic</td>\n",
              "      <td>Jim Sturgess, Kevin Spacey, Kate Bosworth, Aar...</td>\n",
              "      <td>United States</td>\n",
              "      <td>January 1, 2020</td>\n",
              "      <td>2008</td>\n",
              "      <td>PG-13</td>\n",
              "      <td>123 min</td>\n",
              "      <td>Dramas</td>\n",
              "      <td>A brilliant group of students become card-coun...</td>\n",
              "    </tr>\n",
              "  </tbody>\n",
              "</table>\n",
              "</div>\n",
              "      <button class=\"colab-df-convert\" onclick=\"convertToInteractive('df-48dce3b7-a663-4fa4-b28b-a58d026ff94f')\"\n",
              "              title=\"Convert this dataframe to an interactive table.\"\n",
              "              style=\"display:none;\">\n",
              "        \n",
              "  <svg xmlns=\"http://www.w3.org/2000/svg\" height=\"24px\"viewBox=\"0 0 24 24\"\n",
              "       width=\"24px\">\n",
              "    <path d=\"M0 0h24v24H0V0z\" fill=\"none\"/>\n",
              "    <path d=\"M18.56 5.44l.94 2.06.94-2.06 2.06-.94-2.06-.94-.94-2.06-.94 2.06-2.06.94zm-11 1L8.5 8.5l.94-2.06 2.06-.94-2.06-.94L8.5 2.5l-.94 2.06-2.06.94zm10 10l.94 2.06.94-2.06 2.06-.94-2.06-.94-.94-2.06-.94 2.06-2.06.94z\"/><path d=\"M17.41 7.96l-1.37-1.37c-.4-.4-.92-.59-1.43-.59-.52 0-1.04.2-1.43.59L10.3 9.45l-7.72 7.72c-.78.78-.78 2.05 0 2.83L4 21.41c.39.39.9.59 1.41.59.51 0 1.02-.2 1.41-.59l7.78-7.78 2.81-2.81c.8-.78.8-2.07 0-2.86zM5.41 20L4 18.59l7.72-7.72 1.47 1.35L5.41 20z\"/>\n",
              "  </svg>\n",
              "      </button>\n",
              "      \n",
              "  <style>\n",
              "    .colab-df-container {\n",
              "      display:flex;\n",
              "      flex-wrap:wrap;\n",
              "      gap: 12px;\n",
              "    }\n",
              "\n",
              "    .colab-df-convert {\n",
              "      background-color: #E8F0FE;\n",
              "      border: none;\n",
              "      border-radius: 50%;\n",
              "      cursor: pointer;\n",
              "      display: none;\n",
              "      fill: #1967D2;\n",
              "      height: 32px;\n",
              "      padding: 0 0 0 0;\n",
              "      width: 32px;\n",
              "    }\n",
              "\n",
              "    .colab-df-convert:hover {\n",
              "      background-color: #E2EBFA;\n",
              "      box-shadow: 0px 1px 2px rgba(60, 64, 67, 0.3), 0px 1px 3px 1px rgba(60, 64, 67, 0.15);\n",
              "      fill: #174EA6;\n",
              "    }\n",
              "\n",
              "    [theme=dark] .colab-df-convert {\n",
              "      background-color: #3B4455;\n",
              "      fill: #D2E3FC;\n",
              "    }\n",
              "\n",
              "    [theme=dark] .colab-df-convert:hover {\n",
              "      background-color: #434B5C;\n",
              "      box-shadow: 0px 1px 3px 1px rgba(0, 0, 0, 0.15);\n",
              "      filter: drop-shadow(0px 1px 2px rgba(0, 0, 0, 0.3));\n",
              "      fill: #FFFFFF;\n",
              "    }\n",
              "  </style>\n",
              "\n",
              "      <script>\n",
              "        const buttonEl =\n",
              "          document.querySelector('#df-48dce3b7-a663-4fa4-b28b-a58d026ff94f button.colab-df-convert');\n",
              "        buttonEl.style.display =\n",
              "          google.colab.kernel.accessAllowed ? 'block' : 'none';\n",
              "\n",
              "        async function convertToInteractive(key) {\n",
              "          const element = document.querySelector('#df-48dce3b7-a663-4fa4-b28b-a58d026ff94f');\n",
              "          const dataTable =\n",
              "            await google.colab.kernel.invokeFunction('convertToInteractive',\n",
              "                                                     [key], {});\n",
              "          if (!dataTable) return;\n",
              "\n",
              "          const docLinkHtml = 'Like what you see? Visit the ' +\n",
              "            '<a target=\"_blank\" href=https://colab.research.google.com/notebooks/data_table.ipynb>data table notebook</a>'\n",
              "            + ' to learn more about interactive tables.';\n",
              "          element.innerHTML = '';\n",
              "          dataTable['output_type'] = 'display_data';\n",
              "          await google.colab.output.renderOutput(dataTable, element);\n",
              "          const docLink = document.createElement('div');\n",
              "          docLink.innerHTML = docLinkHtml;\n",
              "          element.appendChild(docLink);\n",
              "        }\n",
              "      </script>\n",
              "    </div>\n",
              "  </div>\n",
              "  "
            ]
          },
          "metadata": {},
          "execution_count": 5
        }
      ]
    },
    {
      "cell_type": "code",
      "source": [
        "netflix_df.tail()"
      ],
      "metadata": {
        "colab": {
          "base_uri": "https://localhost:8080/",
          "height": 337
        },
        "id": "8r0cM_l-ZG_h",
        "outputId": "ae0d8cef-f2d9-47df-9cc5-1b717dba115c"
      },
      "execution_count": 6,
      "outputs": [
        {
          "output_type": "execute_result",
          "data": {
            "text/plain": [
              "     show_id     type                                    title     director  \\\n",
              "7782   s7783    Movie                                     Zozo  Josef Fares   \n",
              "7783   s7784    Movie                                   Zubaan  Mozez Singh   \n",
              "7784   s7785    Movie                        Zulu Man in Japan          NaN   \n",
              "7785   s7786  TV Show                    Zumbo's Just Desserts          NaN   \n",
              "7786   s7787    Movie  ZZ TOP: THAT LITTLE OL' BAND FROM TEXAS     Sam Dunn   \n",
              "\n",
              "                                                   cast  \\\n",
              "7782  Imad Creidi, Antoinette Turk, Elias Gergi, Car...   \n",
              "7783  Vicky Kaushal, Sarah-Jane Dias, Raaghav Chanan...   \n",
              "7784                                            Nasty C   \n",
              "7785                         Adriano Zumbo, Rachel Khoo   \n",
              "7786                                                NaN   \n",
              "\n",
              "                                                country          date_added  \\\n",
              "7782  Sweden, Czech Republic, United Kingdom, Denmar...    October 19, 2020   \n",
              "7783                                              India       March 2, 2019   \n",
              "7784                                                NaN  September 25, 2020   \n",
              "7785                                          Australia    October 31, 2020   \n",
              "7786              United Kingdom, Canada, United States       March 1, 2020   \n",
              "\n",
              "      release_year rating  duration  \\\n",
              "7782          2005  TV-MA    99 min   \n",
              "7783          2015  TV-14   111 min   \n",
              "7784          2019  TV-MA    44 min   \n",
              "7785          2019  TV-PG  1 Season   \n",
              "7786          2019  TV-MA    90 min   \n",
              "\n",
              "                                              listed_in  \\\n",
              "7782                       Dramas, International Movies   \n",
              "7783     Dramas, International Movies, Music & Musicals   \n",
              "7784  Documentaries, International Movies, Music & M...   \n",
              "7785                 International TV Shows, Reality TV   \n",
              "7786                    Documentaries, Music & Musicals   \n",
              "\n",
              "                                            description  \n",
              "7782  When Lebanon's Civil War deprives Zozo of his ...  \n",
              "7783  A scrappy but poor boy worms his way into a ty...  \n",
              "7784  In this documentary, South African rapper Nast...  \n",
              "7785  Dessert wizard Adriano Zumbo looks for the nex...  \n",
              "7786  This documentary delves into the mystique behi...  "
            ],
            "text/html": [
              "\n",
              "  <div id=\"df-c25b7ee9-ba29-47fc-bcb0-cc2ddbeff4c4\">\n",
              "    <div class=\"colab-df-container\">\n",
              "      <div>\n",
              "<style scoped>\n",
              "    .dataframe tbody tr th:only-of-type {\n",
              "        vertical-align: middle;\n",
              "    }\n",
              "\n",
              "    .dataframe tbody tr th {\n",
              "        vertical-align: top;\n",
              "    }\n",
              "\n",
              "    .dataframe thead th {\n",
              "        text-align: right;\n",
              "    }\n",
              "</style>\n",
              "<table border=\"1\" class=\"dataframe\">\n",
              "  <thead>\n",
              "    <tr style=\"text-align: right;\">\n",
              "      <th></th>\n",
              "      <th>show_id</th>\n",
              "      <th>type</th>\n",
              "      <th>title</th>\n",
              "      <th>director</th>\n",
              "      <th>cast</th>\n",
              "      <th>country</th>\n",
              "      <th>date_added</th>\n",
              "      <th>release_year</th>\n",
              "      <th>rating</th>\n",
              "      <th>duration</th>\n",
              "      <th>listed_in</th>\n",
              "      <th>description</th>\n",
              "    </tr>\n",
              "  </thead>\n",
              "  <tbody>\n",
              "    <tr>\n",
              "      <th>7782</th>\n",
              "      <td>s7783</td>\n",
              "      <td>Movie</td>\n",
              "      <td>Zozo</td>\n",
              "      <td>Josef Fares</td>\n",
              "      <td>Imad Creidi, Antoinette Turk, Elias Gergi, Car...</td>\n",
              "      <td>Sweden, Czech Republic, United Kingdom, Denmar...</td>\n",
              "      <td>October 19, 2020</td>\n",
              "      <td>2005</td>\n",
              "      <td>TV-MA</td>\n",
              "      <td>99 min</td>\n",
              "      <td>Dramas, International Movies</td>\n",
              "      <td>When Lebanon's Civil War deprives Zozo of his ...</td>\n",
              "    </tr>\n",
              "    <tr>\n",
              "      <th>7783</th>\n",
              "      <td>s7784</td>\n",
              "      <td>Movie</td>\n",
              "      <td>Zubaan</td>\n",
              "      <td>Mozez Singh</td>\n",
              "      <td>Vicky Kaushal, Sarah-Jane Dias, Raaghav Chanan...</td>\n",
              "      <td>India</td>\n",
              "      <td>March 2, 2019</td>\n",
              "      <td>2015</td>\n",
              "      <td>TV-14</td>\n",
              "      <td>111 min</td>\n",
              "      <td>Dramas, International Movies, Music &amp; Musicals</td>\n",
              "      <td>A scrappy but poor boy worms his way into a ty...</td>\n",
              "    </tr>\n",
              "    <tr>\n",
              "      <th>7784</th>\n",
              "      <td>s7785</td>\n",
              "      <td>Movie</td>\n",
              "      <td>Zulu Man in Japan</td>\n",
              "      <td>NaN</td>\n",
              "      <td>Nasty C</td>\n",
              "      <td>NaN</td>\n",
              "      <td>September 25, 2020</td>\n",
              "      <td>2019</td>\n",
              "      <td>TV-MA</td>\n",
              "      <td>44 min</td>\n",
              "      <td>Documentaries, International Movies, Music &amp; M...</td>\n",
              "      <td>In this documentary, South African rapper Nast...</td>\n",
              "    </tr>\n",
              "    <tr>\n",
              "      <th>7785</th>\n",
              "      <td>s7786</td>\n",
              "      <td>TV Show</td>\n",
              "      <td>Zumbo's Just Desserts</td>\n",
              "      <td>NaN</td>\n",
              "      <td>Adriano Zumbo, Rachel Khoo</td>\n",
              "      <td>Australia</td>\n",
              "      <td>October 31, 2020</td>\n",
              "      <td>2019</td>\n",
              "      <td>TV-PG</td>\n",
              "      <td>1 Season</td>\n",
              "      <td>International TV Shows, Reality TV</td>\n",
              "      <td>Dessert wizard Adriano Zumbo looks for the nex...</td>\n",
              "    </tr>\n",
              "    <tr>\n",
              "      <th>7786</th>\n",
              "      <td>s7787</td>\n",
              "      <td>Movie</td>\n",
              "      <td>ZZ TOP: THAT LITTLE OL' BAND FROM TEXAS</td>\n",
              "      <td>Sam Dunn</td>\n",
              "      <td>NaN</td>\n",
              "      <td>United Kingdom, Canada, United States</td>\n",
              "      <td>March 1, 2020</td>\n",
              "      <td>2019</td>\n",
              "      <td>TV-MA</td>\n",
              "      <td>90 min</td>\n",
              "      <td>Documentaries, Music &amp; Musicals</td>\n",
              "      <td>This documentary delves into the mystique behi...</td>\n",
              "    </tr>\n",
              "  </tbody>\n",
              "</table>\n",
              "</div>\n",
              "      <button class=\"colab-df-convert\" onclick=\"convertToInteractive('df-c25b7ee9-ba29-47fc-bcb0-cc2ddbeff4c4')\"\n",
              "              title=\"Convert this dataframe to an interactive table.\"\n",
              "              style=\"display:none;\">\n",
              "        \n",
              "  <svg xmlns=\"http://www.w3.org/2000/svg\" height=\"24px\"viewBox=\"0 0 24 24\"\n",
              "       width=\"24px\">\n",
              "    <path d=\"M0 0h24v24H0V0z\" fill=\"none\"/>\n",
              "    <path d=\"M18.56 5.44l.94 2.06.94-2.06 2.06-.94-2.06-.94-.94-2.06-.94 2.06-2.06.94zm-11 1L8.5 8.5l.94-2.06 2.06-.94-2.06-.94L8.5 2.5l-.94 2.06-2.06.94zm10 10l.94 2.06.94-2.06 2.06-.94-2.06-.94-.94-2.06-.94 2.06-2.06.94z\"/><path d=\"M17.41 7.96l-1.37-1.37c-.4-.4-.92-.59-1.43-.59-.52 0-1.04.2-1.43.59L10.3 9.45l-7.72 7.72c-.78.78-.78 2.05 0 2.83L4 21.41c.39.39.9.59 1.41.59.51 0 1.02-.2 1.41-.59l7.78-7.78 2.81-2.81c.8-.78.8-2.07 0-2.86zM5.41 20L4 18.59l7.72-7.72 1.47 1.35L5.41 20z\"/>\n",
              "  </svg>\n",
              "      </button>\n",
              "      \n",
              "  <style>\n",
              "    .colab-df-container {\n",
              "      display:flex;\n",
              "      flex-wrap:wrap;\n",
              "      gap: 12px;\n",
              "    }\n",
              "\n",
              "    .colab-df-convert {\n",
              "      background-color: #E8F0FE;\n",
              "      border: none;\n",
              "      border-radius: 50%;\n",
              "      cursor: pointer;\n",
              "      display: none;\n",
              "      fill: #1967D2;\n",
              "      height: 32px;\n",
              "      padding: 0 0 0 0;\n",
              "      width: 32px;\n",
              "    }\n",
              "\n",
              "    .colab-df-convert:hover {\n",
              "      background-color: #E2EBFA;\n",
              "      box-shadow: 0px 1px 2px rgba(60, 64, 67, 0.3), 0px 1px 3px 1px rgba(60, 64, 67, 0.15);\n",
              "      fill: #174EA6;\n",
              "    }\n",
              "\n",
              "    [theme=dark] .colab-df-convert {\n",
              "      background-color: #3B4455;\n",
              "      fill: #D2E3FC;\n",
              "    }\n",
              "\n",
              "    [theme=dark] .colab-df-convert:hover {\n",
              "      background-color: #434B5C;\n",
              "      box-shadow: 0px 1px 3px 1px rgba(0, 0, 0, 0.15);\n",
              "      filter: drop-shadow(0px 1px 2px rgba(0, 0, 0, 0.3));\n",
              "      fill: #FFFFFF;\n",
              "    }\n",
              "  </style>\n",
              "\n",
              "      <script>\n",
              "        const buttonEl =\n",
              "          document.querySelector('#df-c25b7ee9-ba29-47fc-bcb0-cc2ddbeff4c4 button.colab-df-convert');\n",
              "        buttonEl.style.display =\n",
              "          google.colab.kernel.accessAllowed ? 'block' : 'none';\n",
              "\n",
              "        async function convertToInteractive(key) {\n",
              "          const element = document.querySelector('#df-c25b7ee9-ba29-47fc-bcb0-cc2ddbeff4c4');\n",
              "          const dataTable =\n",
              "            await google.colab.kernel.invokeFunction('convertToInteractive',\n",
              "                                                     [key], {});\n",
              "          if (!dataTable) return;\n",
              "\n",
              "          const docLinkHtml = 'Like what you see? Visit the ' +\n",
              "            '<a target=\"_blank\" href=https://colab.research.google.com/notebooks/data_table.ipynb>data table notebook</a>'\n",
              "            + ' to learn more about interactive tables.';\n",
              "          element.innerHTML = '';\n",
              "          dataTable['output_type'] = 'display_data';\n",
              "          await google.colab.output.renderOutput(dataTable, element);\n",
              "          const docLink = document.createElement('div');\n",
              "          docLink.innerHTML = docLinkHtml;\n",
              "          element.appendChild(docLink);\n",
              "        }\n",
              "      </script>\n",
              "    </div>\n",
              "  </div>\n",
              "  "
            ]
          },
          "metadata": {},
          "execution_count": 6
        }
      ]
    },
    {
      "cell_type": "markdown",
      "source": [
        "### Dataset Rows & Columns count"
      ],
      "metadata": {
        "id": "EyMbnlIKZKq-"
      }
    },
    {
      "cell_type": "code",
      "source": [
        "# Dataset Rows & Columns count\n",
        "print(f'number of rows : {netflix_df.shape[0]}  \\nnumber of columns : {netflix_df.shape[1]}')"
      ],
      "metadata": {
        "colab": {
          "base_uri": "https://localhost:8080/"
        },
        "id": "7nEbGvv9ZPjn",
        "outputId": "f7b7b12c-5d8f-4e84-fdf7-a40bcef91f2e"
      },
      "execution_count": 7,
      "outputs": [
        {
          "output_type": "stream",
          "name": "stdout",
          "text": [
            "number of rows : 7787  \n",
            "number of columns : 12\n"
          ]
        }
      ]
    },
    {
      "cell_type": "markdown",
      "source": [
        "### Dataset Information"
      ],
      "metadata": {
        "id": "qcytWSnEZSGn"
      }
    },
    {
      "cell_type": "code",
      "source": [
        "# Dataset Info\n",
        "netflix_df.info()"
      ],
      "metadata": {
        "colab": {
          "base_uri": "https://localhost:8080/"
        },
        "id": "2ntvht70ZUsf",
        "outputId": "822d8f10-537c-4f18-ab28-d783c025d866"
      },
      "execution_count": 8,
      "outputs": [
        {
          "output_type": "stream",
          "name": "stdout",
          "text": [
            "<class 'pandas.core.frame.DataFrame'>\n",
            "RangeIndex: 7787 entries, 0 to 7786\n",
            "Data columns (total 12 columns):\n",
            " #   Column        Non-Null Count  Dtype \n",
            "---  ------        --------------  ----- \n",
            " 0   show_id       7787 non-null   object\n",
            " 1   type          7787 non-null   object\n",
            " 2   title         7787 non-null   object\n",
            " 3   director      5398 non-null   object\n",
            " 4   cast          7069 non-null   object\n",
            " 5   country       7280 non-null   object\n",
            " 6   date_added    7777 non-null   object\n",
            " 7   release_year  7787 non-null   int64 \n",
            " 8   rating        7780 non-null   object\n",
            " 9   duration      7787 non-null   object\n",
            " 10  listed_in     7787 non-null   object\n",
            " 11  description   7787 non-null   object\n",
            "dtypes: int64(1), object(11)\n",
            "memory usage: 730.2+ KB\n"
          ]
        }
      ]
    },
    {
      "cell_type": "markdown",
      "source": [
        "#### Duplicate Values"
      ],
      "metadata": {
        "id": "mmz2f7lDZUFp"
      }
    },
    {
      "cell_type": "code",
      "source": [
        "# Dataset Duplicate Value Count\n",
        "print(f'Number of duplicate values in the dataset : {netflix_df.duplicated().sum()}')"
      ],
      "metadata": {
        "colab": {
          "base_uri": "https://localhost:8080/"
        },
        "id": "Vvwf17DPZZ8c",
        "outputId": "7ec1da0b-1a0b-4e2f-f122-8ef1c695ed9b"
      },
      "execution_count": 9,
      "outputs": [
        {
          "output_type": "stream",
          "name": "stdout",
          "text": [
            "Number of duplicate values in the dataset : 0\n"
          ]
        }
      ]
    },
    {
      "cell_type": "markdown",
      "source": [
        "#### Missing Values/Null Values"
      ],
      "metadata": {
        "id": "T9QvUBNajnWd"
      }
    },
    {
      "cell_type": "code",
      "source": [
        "# Missing Values/Null Values Count\n",
        "netflix_df.isna().sum()"
      ],
      "metadata": {
        "colab": {
          "base_uri": "https://localhost:8080/"
        },
        "id": "h7T3wGQQjqvP",
        "outputId": "11736b39-3005-4ab1-c5e1-2dc0fd74a1a6"
      },
      "execution_count": 10,
      "outputs": [
        {
          "output_type": "execute_result",
          "data": {
            "text/plain": [
              "show_id            0\n",
              "type               0\n",
              "title              0\n",
              "director        2389\n",
              "cast             718\n",
              "country          507\n",
              "date_added        10\n",
              "release_year       0\n",
              "rating             7\n",
              "duration           0\n",
              "listed_in          0\n",
              "description        0\n",
              "dtype: int64"
            ]
          },
          "metadata": {},
          "execution_count": 10
        }
      ]
    },
    {
      "cell_type": "code",
      "source": [
        "# Missing Values Percentage\n",
        "round(netflix_df.isna().sum()/netflix_df.shape[0]*100, 2).sort_values(ascending=False).head(5)"
      ],
      "metadata": {
        "colab": {
          "base_uri": "https://localhost:8080/"
        },
        "id": "gRpgIefgjtxY",
        "outputId": "c35be3de-6d91-4205-b907-509fec832611"
      },
      "execution_count": 11,
      "outputs": [
        {
          "output_type": "execute_result",
          "data": {
            "text/plain": [
              "director      30.68\n",
              "cast           9.22\n",
              "country        6.51\n",
              "date_added     0.13\n",
              "rating         0.09\n",
              "dtype: float64"
            ]
          },
          "metadata": {},
          "execution_count": 11
        }
      ]
    },
    {
      "cell_type": "code",
      "source": [
        "# Visualizing the missing values using Heatmap\n",
        "plt.figure(figsize=(10,5))\n",
        "sns.heatmap(netflix_df.isnull(), cbar=False)"
      ],
      "metadata": {
        "colab": {
          "base_uri": "https://localhost:8080/",
          "height": 406
        },
        "id": "qmtvTZn-jxBg",
        "outputId": "f403ebfa-10e3-4046-fac4-97aef7995cd6"
      },
      "execution_count": 12,
      "outputs": [
        {
          "output_type": "execute_result",
          "data": {
            "text/plain": [
              "<matplotlib.axes._subplots.AxesSubplot at 0x7fea3ee70dc0>"
            ]
          },
          "metadata": {},
          "execution_count": 12
        },
        {
          "output_type": "display_data",
          "data": {
            "text/plain": [
              "<Figure size 720x360 with 1 Axes>"
            ],
            "image/png": "[encoded data removed]"
          },
          "metadata": {}
        }
      ]
    },
    {
      "cell_type": "markdown",
      "source": [
        "### What did you know about your dataset?"
      ],
      "metadata": {
        "id": "QCIFuaW7k9an"
      }
    },
    {
      "cell_type": "markdown",
      "source": [
        "NaN values present in the director, cast, country, date_added and rating column. \n",
        "\n",
        "All the data that we have is related to each specific movie. So, we can't impute any null values with using any method. Also we don't want to loose any data since the data size is small for that reason we simply impute nan values with empty space in below procedure analyzing each columns."
      ],
      "metadata": {
        "id": "CNLWXt37lHOn"
      }
    },
    {
      "cell_type": "markdown",
      "source": [
        "## ***2. Understanding Your Variables***"
      ],
      "metadata": {
        "id": "13ebjND6lM0B"
      }
    },
    {
      "cell_type": "code",
      "source": [
        "# Dataset Columns\n",
        "netflix_df.columns"
      ],
      "metadata": {
        "colab": {
          "base_uri": "https://localhost:8080/"
        },
        "id": "fV6CfzDzlMQF",
        "outputId": "8aa5d85a-1738-4122-cbe9-07e895dc4cbc"
      },
      "execution_count": 13,
      "outputs": [
        {
          "output_type": "execute_result",
          "data": {
            "text/plain": [
              "Index(['show_id', 'type', 'title', 'director', 'cast', 'country', 'date_added',\n",
              "       'release_year', 'rating', 'duration', 'listed_in', 'description'],\n",
              "      dtype='object')"
            ]
          },
          "metadata": {},
          "execution_count": 13
        }
      ]
    },
    {
      "cell_type": "code",
      "source": [
        "# Dataset Describe\n",
        "netflix_df.describe(include='all').transpose()"
      ],
      "metadata": {
        "colab": {
          "base_uri": "https://localhost:8080/",
          "height": 425
        },
        "id": "nsP9QcmflGns",
        "outputId": "c89829d8-9658-414c-fa90-1a40d97c8b56"
      },
      "execution_count": 14,
      "outputs": [
        {
          "output_type": "execute_result",
          "data": {
            "text/plain": [
              "               count unique  \\\n",
              "show_id         7787   7787   \n",
              "type            7787      2   \n",
              "title           7787   7787   \n",
              "director        5398   4049   \n",
              "cast            7069   6831   \n",
              "country         7280    681   \n",
              "date_added      7777   1565   \n",
              "release_year  7787.0    NaN   \n",
              "rating          7780     14   \n",
              "duration        7787    216   \n",
              "listed_in       7787    492   \n",
              "description     7787   7769   \n",
              "\n",
              "                                                            top  freq  \\\n",
              "show_id                                                      s1     1   \n",
              "type                                                      Movie  5377   \n",
              "title                                                        3%     1   \n",
              "director                                 Raúl Campos, Jan Suter    18   \n",
              "cast                                         David Attenborough    18   \n",
              "country                                           United States  2555   \n",
              "date_added                                      January 1, 2020   118   \n",
              "release_year                                                NaN   NaN   \n",
              "rating                                                    TV-MA  2863   \n",
              "duration                                               1 Season  1608   \n",
              "listed_in                                         Documentaries   334   \n",
              "description   Multiple women report their husbands as missin...     3   \n",
              "\n",
              "                    mean       std     min     25%     50%     75%     max  \n",
              "show_id              NaN       NaN     NaN     NaN     NaN     NaN     NaN  \n",
              "type                 NaN       NaN     NaN     NaN     NaN     NaN     NaN  \n",
              "title                NaN       NaN     NaN     NaN     NaN     NaN     NaN  \n",
              "director             NaN       NaN     NaN     NaN     NaN     NaN     NaN  \n",
              "cast                 NaN       NaN     NaN     NaN     NaN     NaN     NaN  \n",
              "country              NaN       NaN     NaN     NaN     NaN     NaN     NaN  \n",
              "date_added           NaN       NaN     NaN     NaN     NaN     NaN     NaN  \n",
              "release_year  2013.93258  8.757395  1925.0  2013.0  2017.0  2018.0  2021.0  \n",
              "rating               NaN       NaN     NaN     NaN     NaN     NaN     NaN  \n",
              "duration             NaN       NaN     NaN     NaN     NaN     NaN     NaN  \n",
              "listed_in            NaN       NaN     NaN     NaN     NaN     NaN     NaN  \n",
              "description          NaN       NaN     NaN     NaN     NaN     NaN     NaN  "
            ],
            "text/html": [
              "\n",
              "  <div id=\"df-409d884e-85ea-4850-a9cf-e52ddb2e0752\">\n",
              "    <div class=\"colab-df-container\">\n",
              "      <div>\n",
              "<style scoped>\n",
              "    .dataframe tbody tr th:only-of-type {\n",
              "        vertical-align: middle;\n",
              "    }\n",
              "\n",
              "    .dataframe tbody tr th {\n",
              "        vertical-align: top;\n",
              "    }\n",
              "\n",
              "    .dataframe thead th {\n",
              "        text-align: right;\n",
              "    }\n",
              "</style>\n",
              "<table border=\"1\" class=\"dataframe\">\n",
              "  <thead>\n",
              "    <tr style=\"text-align: right;\">\n",
              "      <th></th>\n",
              "      <th>count</th>\n",
              "      <th>unique</th>\n",
              "      <th>top</th>\n",
              "      <th>freq</th>\n",
              "      <th>mean</th>\n",
              "      <th>std</th>\n",
              "      <th>min</th>\n",
              "      <th>25%</th>\n",
              "      <th>50%</th>\n",
              "      <th>75%</th>\n",
              "      <th>max</th>\n",
              "    </tr>\n",
              "  </thead>\n",
              "  <tbody>\n",
              "    <tr>\n",
              "      <th>show_id</th>\n",
              "      <td>7787</td>\n",
              "      <td>7787</td>\n",
              "      <td>s1</td>\n",
              "      <td>1</td>\n",
              "      <td>NaN</td>\n",
              "      <td>NaN</td>\n",
              "      <td>NaN</td>\n",
              "      <td>NaN</td>\n",
              "      <td>NaN</td>\n",
              "      <td>NaN</td>\n",
              "      <td>NaN</td>\n",
              "    </tr>\n",
              "    <tr>\n",
              "      <th>type</th>\n",
              "      <td>7787</td>\n",
              "      <td>2</td>\n",
              "      <td>Movie</td>\n",
              "      <td>5377</td>\n",
              "      <td>NaN</td>\n",
              "      <td>NaN</td>\n",
              "      <td>NaN</td>\n",
              "      <td>NaN</td>\n",
              "      <td>NaN</td>\n",
              "      <td>NaN</td>\n",
              "      <td>NaN</td>\n",
              "    </tr>\n",
              "    <tr>\n",
              "      <th>title</th>\n",
              "      <td>7787</td>\n",
              "      <td>7787</td>\n",
              "      <td>3%</td>\n",
              "      <td>1</td>\n",
              "      <td>NaN</td>\n",
              "      <td>NaN</td>\n",
              "      <td>NaN</td>\n",
              "      <td>NaN</td>\n",
              "      <td>NaN</td>\n",
              "      <td>NaN</td>\n",
              "      <td>NaN</td>\n",
              "    </tr>\n",
              "    <tr>\n",
              "      <th>director</th>\n",
              "      <td>5398</td>\n",
              "      <td>4049</td>\n",
              "      <td>Raúl Campos, Jan Suter</td>\n",
              "      <td>18</td>\n",
              "      <td>NaN</td>\n",
              "      <td>NaN</td>\n",
              "      <td>NaN</td>\n",
              "      <td>NaN</td>\n",
              "      <td>NaN</td>\n",
              "      <td>NaN</td>\n",
              "      <td>NaN</td>\n",
              "    </tr>\n",
              "    <tr>\n",
              "      <th>cast</th>\n",
              "      <td>7069</td>\n",
              "      <td>6831</td>\n",
              "      <td>David Attenborough</td>\n",
              "      <td>18</td>\n",
              "      <td>NaN</td>\n",
              "      <td>NaN</td>\n",
              "      <td>NaN</td>\n",
              "      <td>NaN</td>\n",
              "      <td>NaN</td>\n",
              "      <td>NaN</td>\n",
              "      <td>NaN</td>\n",
              "    </tr>\n",
              "    <tr>\n",
              "      <th>country</th>\n",
              "      <td>7280</td>\n",
              "      <td>681</td>\n",
              "      <td>United States</td>\n",
              "      <td>2555</td>\n",
              "      <td>NaN</td>\n",
              "      <td>NaN</td>\n",
              "      <td>NaN</td>\n",
              "      <td>NaN</td>\n",
              "      <td>NaN</td>\n",
              "      <td>NaN</td>\n",
              "      <td>NaN</td>\n",
              "    </tr>\n",
              "    <tr>\n",
              "      <th>date_added</th>\n",
              "      <td>7777</td>\n",
              "      <td>1565</td>\n",
              "      <td>January 1, 2020</td>\n",
              "      <td>118</td>\n",
              "      <td>NaN</td>\n",
              "      <td>NaN</td>\n",
              "      <td>NaN</td>\n",
              "      <td>NaN</td>\n",
              "      <td>NaN</td>\n",
              "      <td>NaN</td>\n",
              "      <td>NaN</td>\n",
              "    </tr>\n",
              "    <tr>\n",
              "      <th>release_year</th>\n",
              "      <td>7787.0</td>\n",
              "      <td>NaN</td>\n",
              "      <td>NaN</td>\n",
              "      <td>NaN</td>\n",
              "      <td>2013.93258</td>\n",
              "      <td>8.757395</td>\n",
              "      <td>1925.0</td>\n",
              "      <td>2013.0</td>\n",
              "      <td>2017.0</td>\n",
              "      <td>2018.0</td>\n",
              "      <td>2021.0</td>\n",
              "    </tr>\n",
              "    <tr>\n",
              "      <th>rating</th>\n",
              "      <td>7780</td>\n",
              "      <td>14</td>\n",
              "      <td>TV-MA</td>\n",
              "      <td>2863</td>\n",
              "      <td>NaN</td>\n",
              "      <td>NaN</td>\n",
              "      <td>NaN</td>\n",
              "      <td>NaN</td>\n",
              "      <td>NaN</td>\n",
              "      <td>NaN</td>\n",
              "      <td>NaN</td>\n",
              "    </tr>\n",
              "    <tr>\n",
              "      <th>duration</th>\n",
              "      <td>7787</td>\n",
              "      <td>216</td>\n",
              "      <td>1 Season</td>\n",
              "      <td>1608</td>\n",
              "      <td>NaN</td>\n",
              "      <td>NaN</td>\n",
              "      <td>NaN</td>\n",
              "      <td>NaN</td>\n",
              "      <td>NaN</td>\n",
              "      <td>NaN</td>\n",
              "      <td>NaN</td>\n",
              "    </tr>\n",
              "    <tr>\n",
              "      <th>listed_in</th>\n",
              "      <td>7787</td>\n",
              "      <td>492</td>\n",
              "      <td>Documentaries</td>\n",
              "      <td>334</td>\n",
              "      <td>NaN</td>\n",
              "      <td>NaN</td>\n",
              "      <td>NaN</td>\n",
              "      <td>NaN</td>\n",
              "      <td>NaN</td>\n",
              "      <td>NaN</td>\n",
              "      <td>NaN</td>\n",
              "    </tr>\n",
              "    <tr>\n",
              "      <th>description</th>\n",
              "      <td>7787</td>\n",
              "      <td>7769</td>\n",
              "      <td>Multiple women report their husbands as missin...</td>\n",
              "      <td>3</td>\n",
              "      <td>NaN</td>\n",
              "      <td>NaN</td>\n",
              "      <td>NaN</td>\n",
              "      <td>NaN</td>\n",
              "      <td>NaN</td>\n",
              "      <td>NaN</td>\n",
              "      <td>NaN</td>\n",
              "    </tr>\n",
              "  </tbody>\n",
              "</table>\n",
              "</div>\n",
              "      <button class=\"colab-df-convert\" onclick=\"convertToInteractive('df-409d884e-85ea-4850-a9cf-e52ddb2e0752')\"\n",
              "              title=\"Convert this dataframe to an interactive table.\"\n",
              "              style=\"display:none;\">\n",
              "        \n",
              "  <svg xmlns=\"http://www.w3.org/2000/svg\" height=\"24px\"viewBox=\"0 0 24 24\"\n",
              "       width=\"24px\">\n",
              "    <path d=\"M0 0h24v24H0V0z\" fill=\"none\"/>\n",
              "    <path d=\"M18.56 5.44l.94 2.06.94-2.06 2.06-.94-2.06-.94-.94-2.06-.94 2.06-2.06.94zm-11 1L8.5 8.5l.94-2.06 2.06-.94-2.06-.94L8.5 2.5l-.94 2.06-2.06.94zm10 10l.94 2.06.94-2.06 2.06-.94-2.06-.94-.94-2.06-.94 2.06-2.06.94z\"/><path d=\"M17.41 7.96l-1.37-1.37c-.4-.4-.92-.59-1.43-.59-.52 0-1.04.2-1.43.59L10.3 9.45l-7.72 7.72c-.78.78-.78 2.05 0 2.83L4 21.41c.39.39.9.59 1.41.59.51 0 1.02-.2 1.41-.59l7.78-7.78 2.81-2.81c.8-.78.8-2.07 0-2.86zM5.41 20L4 18.59l7.72-7.72 1.47 1.35L5.41 20z\"/>\n",
              "  </svg>\n",
              "      </button>\n",
              "      \n",
              "  <style>\n",
              "    .colab-df-container {\n",
              "      display:flex;\n",
              "      flex-wrap:wrap;\n",
              "      gap: 12px;\n",
              "    }\n",
              "\n",
              "    .colab-df-convert {\n",
              "      background-color: #E8F0FE;\n",
              "      border: none;\n",
              "      border-radius: 50%;\n",
              "      cursor: pointer;\n",
              "      display: none;\n",
              "      fill: #1967D2;\n",
              "      height: 32px;\n",
              "      padding: 0 0 0 0;\n",
              "      width: 32px;\n",
              "    }\n",
              "\n",
              "    .colab-df-convert:hover {\n",
              "      background-color: #E2EBFA;\n",
              "      box-shadow: 0px 1px 2px rgba(60, 64, 67, 0.3), 0px 1px 3px 1px rgba(60, 64, 67, 0.15);\n",
              "      fill: #174EA6;\n",
              "    }\n",
              "\n",
              "    [theme=dark] .colab-df-convert {\n",
              "      background-color: #3B4455;\n",
              "      fill: #D2E3FC;\n",
              "    }\n",
              "\n",
              "    [theme=dark] .colab-df-convert:hover {\n",
              "      background-color: #434B5C;\n",
              "      box-shadow: 0px 1px 3px 1px rgba(0, 0, 0, 0.15);\n",
              "      filter: drop-shadow(0px 1px 2px rgba(0, 0, 0, 0.3));\n",
              "      fill: #FFFFFF;\n",
              "    }\n",
              "  </style>\n",
              "\n",
              "      <script>\n",
              "        const buttonEl =\n",
              "          document.querySelector('#df-409d884e-85ea-4850-a9cf-e52ddb2e0752 button.colab-df-convert');\n",
              "        buttonEl.style.display =\n",
              "          google.colab.kernel.accessAllowed ? 'block' : 'none';\n",
              "\n",
              "        async function convertToInteractive(key) {\n",
              "          const element = document.querySelector('#df-409d884e-85ea-4850-a9cf-e52ddb2e0752');\n",
              "          const dataTable =\n",
              "            await google.colab.kernel.invokeFunction('convertToInteractive',\n",
              "                                                     [key], {});\n",
              "          if (!dataTable) return;\n",
              "\n",
              "          const docLinkHtml = 'Like what you see? Visit the ' +\n",
              "            '<a target=\"_blank\" href=https://colab.research.google.com/notebooks/data_table.ipynb>data table notebook</a>'\n",
              "            + ' to learn more about interactive tables.';\n",
              "          element.innerHTML = '';\n",
              "          dataTable['output_type'] = 'display_data';\n",
              "          await google.colab.output.renderOutput(dataTable, element);\n",
              "          const docLink = document.createElement('div');\n",
              "          docLink.innerHTML = docLinkHtml;\n",
              "          element.appendChild(docLink);\n",
              "        }\n",
              "      </script>\n",
              "    </div>\n",
              "  </div>\n",
              "  "
            ]
          },
          "metadata": {},
          "execution_count": 14
        }
      ]
    },
    {
      "cell_type": "markdown",
      "source": [
        "## ***3. Variables Description***"
      ],
      "metadata": {
        "id": "6ZkrEfHCletn"
      }
    },
    {
      "cell_type": "markdown",
      "source": [
        "- **show_id** : Unique ID for every Movie/Show\n",
        "- **type** : Identifier - Movie/Show\n",
        "- **title** : Title of the Movie/Show\n",
        "- **director** : Director of the Movie/Show\n",
        "- **cast** : Actors involved in the Movie/Show\n",
        "- **country** : Country where the Movie/Show was produced\n",
        "- **date_added** : Date it was added on Netflix\n",
        "- **release_year** : Actual Release year of the Movie/Show\n",
        "- **rating** : TV Rating of the Movie/Show\n",
        "- **duration** : Total Duration - in minutes or number of seasons\n",
        "- **listed_in** : Genre\n",
        "- **description**: The Summary description"
      ],
      "metadata": {
        "id": "e2cno37Hlihm"
      }
    },
    {
      "cell_type": "markdown",
      "source": [
        "### Check Unique Values for each variable."
      ],
      "metadata": {
        "id": "esv2b2kBllis"
      }
    },
    {
      "cell_type": "code",
      "source": [
        "# Check Unique Values for each variable.\n",
        "for i in netflix_df.columns.tolist():\n",
        "  print(\"Number of unique values in \",i,\"is\",netflix_df[i].nunique(),\".\")"
      ],
      "metadata": {
        "colab": {
          "base_uri": "https://localhost:8080/"
        },
        "id": "ZuarpxQXlfoQ",
        "outputId": "4e8caae3-30aa-4b3d-bb29-4c160e18a5f4"
      },
      "execution_count": 15,
      "outputs": [
        {
          "output_type": "stream",
          "name": "stdout",
          "text": [
            "Number of unique values in  show_id is 7787 .\n",
            "Number of unique values in  type is 2 .\n",
            "Number of unique values in  title is 7787 .\n",
            "Number of unique values in  director is 4049 .\n",
            "Number of unique values in  cast is 6831 .\n",
            "Number of unique values in  country is 681 .\n",
            "Number of unique values in  date_added is 1565 .\n",
            "Number of unique values in  release_year is 73 .\n",
            "Number of unique values in  rating is 14 .\n",
            "Number of unique values in  duration is 216 .\n",
            "Number of unique values in  listed_in is 492 .\n",
            "Number of unique values in  description is 7769 .\n"
          ]
        }
      ]
    },
    {
      "cell_type": "markdown",
      "source": [
        "- **After analysing dataset we are more focusing toward 'type', 'title', 'director', 'cast', 'country', 'rating', 'listed_in', 'description' columns and these column carry a lots of information.**\n",
        "- **We are building our model on the top of mentioned features where those feature are used to create one cluster column to implement K-means, Hierarchical clustering and building content based recommandation system as well.**"
      ],
      "metadata": {
        "id": "Ghxp4BkRlt1m"
      }
    },
    {
      "cell_type": "code",
      "source": [
        "#total null values\n",
        "netflix_df.isnull().sum().sum()"
      ],
      "metadata": {
        "colab": {
          "base_uri": "https://localhost:8080/"
        },
        "id": "x2BMPbmXmDc5",
        "outputId": "78a7367f-bf7b-4405-8903-f4021ef43755"
      },
      "execution_count": 16,
      "outputs": [
        {
          "output_type": "execute_result",
          "data": {
            "text/plain": [
              "3631"
            ]
          },
          "metadata": {},
          "execution_count": 16
        }
      ]
    },
    {
      "cell_type": "code",
      "source": [
        "# Handling the missing values\n",
        "netflix_df[['director','cast','country']] = netflix_df[['director','cast','country']].fillna('Unknown')\n",
        "netflix_df['rating'] = netflix_df['rating'].fillna(netflix_df['rating'].mode()[0])\n",
        "netflix_df.dropna(axis=0, inplace = True)"
      ],
      "metadata": {
        "id": "Q7hlT6NMmF2S"
      },
      "execution_count": 17,
      "outputs": []
    },
    {
      "cell_type": "code",
      "source": [
        "#again checking is there any null values are not\n",
        "netflix_df.isnull().sum()"
      ],
      "metadata": {
        "colab": {
          "base_uri": "https://localhost:8080/"
        },
        "id": "jTWBSwZQmLe_",
        "outputId": "af34f876-4ffe-4622-e791-e3182f588593"
      },
      "execution_count": 18,
      "outputs": [
        {
          "output_type": "execute_result",
          "data": {
            "text/plain": [
              "show_id         0\n",
              "type            0\n",
              "title           0\n",
              "director        0\n",
              "cast            0\n",
              "country         0\n",
              "date_added      0\n",
              "release_year    0\n",
              "rating          0\n",
              "duration        0\n",
              "listed_in       0\n",
              "description     0\n",
              "dtype: int64"
            ]
          },
          "metadata": {},
          "execution_count": 18
        }
      ]
    },
    {
      "cell_type": "code",
      "source": [
        "# Dataset Rows & Columns count\n",
        "netflix_df.shape"
      ],
      "metadata": {
        "colab": {
          "base_uri": "https://localhost:8080/"
        },
        "id": "ZBKe5VpRmNg8",
        "outputId": "576de8da-7973-4298-d07c-556774faf17f"
      },
      "execution_count": 19,
      "outputs": [
        {
          "output_type": "execute_result",
          "data": {
            "text/plain": [
              "(7777, 12)"
            ]
          },
          "metadata": {},
          "execution_count": 19
        }
      ]
    },
    {
      "cell_type": "markdown",
      "source": [
        "# **Feature engineering**"
      ],
      "metadata": {
        "id": "MvPLmTCGmRN1"
      }
    },
    {
      "cell_type": "code",
      "source": [
        "# Top countries\n",
        "netflix_df.country.value_counts()"
      ],
      "metadata": {
        "colab": {
          "base_uri": "https://localhost:8080/"
        },
        "id": "f6zxVYy0mTZE",
        "outputId": "9e532627-d693-4c7b-f99f-3daa49cc9abc"
      },
      "execution_count": 20,
      "outputs": [
        {
          "output_type": "execute_result",
          "data": {
            "text/plain": [
              "United States                                                   2549\n",
              "India                                                            923\n",
              "Unknown                                                          506\n",
              "United Kingdom                                                   396\n",
              "Japan                                                            225\n",
              "                                                                ... \n",
              "Russia, United States, China                                       1\n",
              "Italy, Switzerland, France, Germany                                1\n",
              "United States, United Kingdom, Canada                              1\n",
              "United States, United Kingdom, Japan                               1\n",
              "Sweden, Czech Republic, United Kingdom, Denmark, Netherlands       1\n",
              "Name: country, Length: 682, dtype: int64"
            ]
          },
          "metadata": {},
          "execution_count": 20
        }
      ]
    },
    {
      "cell_type": "code",
      "source": [
        "# Genre of shows\n",
        "netflix_df.listed_in.value_counts()"
      ],
      "metadata": {
        "colab": {
          "base_uri": "https://localhost:8080/"
        },
        "id": "iR32khWXmVwo",
        "outputId": "b86ae21e-2538-4636-caba-b75066da77da"
      },
      "execution_count": 21,
      "outputs": [
        {
          "output_type": "execute_result",
          "data": {
            "text/plain": [
              "Documentaries                                                                      334\n",
              "Stand-Up Comedy                                                                    321\n",
              "Dramas, International Movies                                                       320\n",
              "Comedies, Dramas, International Movies                                             243\n",
              "Dramas, Independent Movies, International Movies                                   215\n",
              "                                                                                  ... \n",
              "Anime Series, Crime TV Shows, TV Thrillers                                           1\n",
              "Crime TV Shows, Romantic TV Shows, Spanish-Language TV Shows                         1\n",
              "Crime TV Shows, International TV Shows, Reality TV                                   1\n",
              "International Movies, Romantic Movies, Sci-Fi & Fantasy                              1\n",
              "International TV Shows, Spanish-Language TV Shows, Stand-Up Comedy & Talk Shows      1\n",
              "Name: listed_in, Length: 491, dtype: int64"
            ]
          },
          "metadata": {},
          "execution_count": 21
        }
      ]
    },
    {
      "cell_type": "code",
      "source": [
        "# Choosing the primary country and primary genre to simplify the analysis\n",
        "netflix_df['country'] = netflix_df['country'].apply(lambda x: x.split(',')[0])\n",
        "netflix_df['listed_in'] = netflix_df['listed_in'].apply(lambda x: x.split(',')[0])"
      ],
      "metadata": {
        "id": "SjFZAm5MmYuc"
      },
      "execution_count": 22,
      "outputs": []
    },
    {
      "cell_type": "code",
      "source": [
        "# genre of shows\n",
        "netflix_df.listed_in.value_counts()"
      ],
      "metadata": {
        "colab": {
          "base_uri": "https://localhost:8080/"
        },
        "id": "wnUa5Q5Qmarp",
        "outputId": "bdec3f48-2c88-4c34-a6e9-4f76f91b7451"
      },
      "execution_count": 23,
      "outputs": [
        {
          "output_type": "execute_result",
          "data": {
            "text/plain": [
              "Dramas                          1384\n",
              "Comedies                        1074\n",
              "Documentaries                    751\n",
              "Action & Adventure               721\n",
              "International TV Shows           689\n",
              "Children & Family Movies         502\n",
              "Crime TV Shows                   369\n",
              "Kids' TV                         357\n",
              "Stand-Up Comedy                  321\n",
              "Horror Movies                    244\n",
              "British TV Shows                 231\n",
              "Docuseries                       193\n",
              "Anime Series                     147\n",
              "International Movies             114\n",
              "TV Comedies                      109\n",
              "Reality TV                       102\n",
              "Classic Movies                    77\n",
              "TV Dramas                         62\n",
              "Movies                            56\n",
              "Thrillers                         49\n",
              "TV Action & Adventure             36\n",
              "Stand-Up Comedy & Talk Shows      33\n",
              "Romantic TV Shows                 28\n",
              "Independent Movies                20\n",
              "Anime Features                    19\n",
              "Classic & Cult TV                 19\n",
              "Music & Musicals                  17\n",
              "TV Shows                          12\n",
              "Cult Movies                       12\n",
              "Sci-Fi & Fantasy                  11\n",
              "TV Horror                         10\n",
              "Romantic Movies                    3\n",
              "Spanish-Language TV Shows          2\n",
              "Sports Movies                      1\n",
              "TV Sci-Fi & Fantasy                1\n",
              "LGBTQ Movies                       1\n",
              "Name: listed_in, dtype: int64"
            ]
          },
          "metadata": {},
          "execution_count": 23
        }
      ]
    },
    {
      "cell_type": "code",
      "source": [
        "# Splitting the duration column, and changing the datatype to integer\n",
        "netflix_df['duration'] = netflix_df['duration'].apply(lambda x: int(x.split()[0]))"
      ],
      "metadata": {
        "id": "grUaCNdHmefg"
      },
      "execution_count": 24,
      "outputs": []
    },
    {
      "cell_type": "code",
      "source": [
        "# Number of seasons for tv shows\n",
        "netflix_df[netflix_df['type']=='TV Show'].duration.value_counts()"
      ],
      "metadata": {
        "colab": {
          "base_uri": "https://localhost:8080/"
        },
        "id": "0IUVJWPzmgd9",
        "outputId": "67de71af-576c-4cb6-9eb4-8cd8b8bfe49a"
      },
      "execution_count": 25,
      "outputs": [
        {
          "output_type": "execute_result",
          "data": {
            "text/plain": [
              "1     1608\n",
              "2      378\n",
              "3      183\n",
              "4       86\n",
              "5       57\n",
              "6       30\n",
              "7       19\n",
              "8       18\n",
              "9        8\n",
              "10       5\n",
              "11       2\n",
              "12       2\n",
              "15       2\n",
              "13       1\n",
              "16       1\n",
              "Name: duration, dtype: int64"
            ]
          },
          "metadata": {},
          "execution_count": 25
        }
      ]
    },
    {
      "cell_type": "code",
      "source": [
        "# Movie length in minutes\n",
        "netflix_df[netflix_df['type']=='Movie'].duration.unique()"
      ],
      "metadata": {
        "colab": {
          "base_uri": "https://localhost:8080/"
        },
        "id": "0M-Vc7T-miWc",
        "outputId": "130d28e7-9327-4c67-e741-653ced4b863b"
      },
      "execution_count": 26,
      "outputs": [
        {
          "output_type": "execute_result",
          "data": {
            "text/plain": [
              "array([ 93,  78,  80, 123,  95, 119, 118, 143, 103,  89,  91, 149, 144,\n",
              "       124,  87, 110, 128, 117, 100,  84,  99,  90, 102, 104, 105,  56,\n",
              "       125,  81,  97, 106, 107, 109,  44,  75, 101,  37, 113, 114, 130,\n",
              "        94, 140, 135,  82,  70, 121,  92, 164,  53,  83, 116,  86, 120,\n",
              "        96, 126, 129,  77, 137, 148,  28, 122, 176,  85,  22,  68, 111,\n",
              "        29, 142, 168,  21,  59,  20,  98, 108,  76,  26, 156,  30,  57,\n",
              "       150, 133, 115, 154, 127, 146, 136,  88, 131,  24, 112,  74,  63,\n",
              "        38,  25, 174,  60, 153, 158, 151, 162,  54,  51,  69,  64, 147,\n",
              "        42,  79,  40,  45, 172,  10, 163,  55,  72,  61,  71, 160, 171,\n",
              "        48, 139, 157,  15,  65, 134, 161,  62, 186,  49,  73,  58, 165,\n",
              "       166, 138, 159, 141, 132,  52,  67,  34,  66, 312, 180,  47, 155,\n",
              "        14, 177,  11,   9,  46, 145,   8,  12,  43,  50,  23, 185, 200,\n",
              "       169,  27, 170, 196,  33, 181, 204,  32,  35, 167, 179, 193,  13,\n",
              "       214,  17, 173, 192, 209, 187,  41, 182, 224, 233, 189, 152,  19,\n",
              "       208, 237,  31, 178, 230, 194, 228, 195,   3,  16,   5,  18, 205,\n",
              "       190,  36, 201, 253, 203, 191])"
            ]
          },
          "metadata": {},
          "execution_count": 26
        }
      ]
    },
    {
      "cell_type": "markdown",
      "source": [
        "# convert Date_added column string to Datetime format"
      ],
      "metadata": {
        "id": "MtUAfdK7nLSZ"
      }
    },
    {
      "cell_type": "code",
      "source": [
        "# Typecasting 'date_added' from string to datetime\n",
        "netflix_df['date_added '] = pd.to_datetime(netflix_df['date_added'])"
      ],
      "metadata": {
        "id": "nl4NnUcHnP2E"
      },
      "execution_count": 27,
      "outputs": []
    },
    {
      "cell_type": "code",
      "source": [
        "netflix_df['date_added'] = pd.to_datetime(netflix_df['date_added'], errors='coerce')"
      ],
      "metadata": {
        "id": "n_ogJxBRnR76"
      },
      "execution_count": 28,
      "outputs": []
    },
    {
      "cell_type": "code",
      "source": [
        "# first and last date on which a show was added on Netflix\n",
        "netflix_df.date_added.min(),netflix_df.date_added.max()"
      ],
      "metadata": {
        "colab": {
          "base_uri": "https://localhost:8080/"
        },
        "id": "FlmtnJa_nVD_",
        "outputId": "badfada6-b515-4587-8a46-b643207bad58"
      },
      "execution_count": 29,
      "outputs": [
        {
          "output_type": "execute_result",
          "data": {
            "text/plain": [
              "(Timestamp('2008-01-01 00:00:00'), Timestamp('2021-01-16 00:00:00'))"
            ]
          },
          "metadata": {},
          "execution_count": 29
        }
      ]
    },
    {
      "cell_type": "code",
      "source": [
        "# Adding new attributes month and year of date added\n",
        "\n",
        "netflix_df['month_added'] = netflix_df['date_added'].dt.month\n",
        "netflix_df['year_added'] = netflix_df['date_added'].dt.year\n",
        "netflix_df.drop('date_added', axis=1, inplace=True)"
      ],
      "metadata": {
        "id": "5HkngC8mniAb"
      },
      "execution_count": 30,
      "outputs": []
    },
    {
      "cell_type": "code",
      "source": [
        "# Dataset Rows & Columns count\n",
        "netflix_df.shape"
      ],
      "metadata": {
        "colab": {
          "base_uri": "https://localhost:8080/"
        },
        "id": "eACCGCWynj0m",
        "outputId": "738ce798-a72b-499f-d087-031077bd5f18"
      },
      "execution_count": 31,
      "outputs": [
        {
          "output_type": "execute_result",
          "data": {
            "text/plain": [
              "(7777, 14)"
            ]
          },
          "metadata": {},
          "execution_count": 31
        }
      ]
    },
    {
      "cell_type": "code",
      "source": [
        "# Dataset Info\n",
        "netflix_df.info()"
      ],
      "metadata": {
        "colab": {
          "base_uri": "https://localhost:8080/"
        },
        "id": "mXau0LkEnl2U",
        "outputId": "9c7cadd4-01a9-4848-c45d-6f32c829b9d2"
      },
      "execution_count": 32,
      "outputs": [
        {
          "output_type": "stream",
          "name": "stdout",
          "text": [
            "<class 'pandas.core.frame.DataFrame'>\n",
            "Int64Index: 7777 entries, 0 to 7786\n",
            "Data columns (total 14 columns):\n",
            " #   Column        Non-Null Count  Dtype         \n",
            "---  ------        --------------  -----         \n",
            " 0   show_id       7777 non-null   object        \n",
            " 1   type          7777 non-null   object        \n",
            " 2   title         7777 non-null   object        \n",
            " 3   director      7777 non-null   object        \n",
            " 4   cast          7777 non-null   object        \n",
            " 5   country       7777 non-null   object        \n",
            " 6   release_year  7777 non-null   int64         \n",
            " 7   rating        7777 non-null   object        \n",
            " 8   duration      7777 non-null   int64         \n",
            " 9   listed_in     7777 non-null   object        \n",
            " 10  description   7777 non-null   object        \n",
            " 11  date_added    7777 non-null   datetime64[ns]\n",
            " 12  month_added   7777 non-null   int64         \n",
            " 13  year_added    7777 non-null   int64         \n",
            "dtypes: datetime64[ns](1), int64(4), object(9)\n",
            "memory usage: 911.4+ KB\n"
          ]
        }
      ]
    },
    {
      "cell_type": "markdown",
      "source": [
        "## ***4. Data Vizualization, Storytelling & Experimenting with charts : Understand the relationships between variables***"
      ],
      "metadata": {
        "id": "Mu_7R__8lxft"
      }
    },
    {
      "cell_type": "markdown",
      "source": [
        "Exploratory Data Analysis (EDA) is the very first step before you can perform any changes to the dataset or develop a statistical model to answer business problems. In other words, the process of EDA contains summarizing, visualizing and getting deeply acquainted with the important traits of a data set."
      ],
      "metadata": {
        "id": "-6Eo90qYl1P2"
      }
    },
    {
      "cell_type": "markdown",
      "source": [
        "# **Chart-1**"
      ],
      "metadata": {
        "id": "wPxRu2hQn8EC"
      }
    },
    {
      "cell_type": "code",
      "source": [
        "# Number of Movies and TV Shows in the dataset\n",
        "plt.figure(figsize=(7,7))\n",
        "netflix_df.type.value_counts().plot(kind='pie',autopct='%1.2f%%')\n",
        "# for donut chart \n",
        "centre_circle = plt.Circle((0,0),0.60,fc='white')\n",
        "fig = plt.gcf()\n",
        "fig.gca().add_artist(centre_circle)\n",
        "\n",
        "\n",
        "plt.ylabel('')\n",
        "plt.title('Movies and TV Shows in the dataset')"
      ],
      "metadata": {
        "colab": {
          "base_uri": "https://localhost:8080/",
          "height": 445
        },
        "id": "Alq0U6WGoFLq",
        "outputId": "9fea756b-e5e8-4b64-8e0b-a96215af6262"
      },
      "execution_count": 33,
      "outputs": [
        {
          "output_type": "execute_result",
          "data": {
            "text/plain": [
              "Text(0.5, 1.0, 'Movies and TV Shows in the dataset')"
            ]
          },
          "metadata": {},
          "execution_count": 33
        },
        {
          "output_type": "display_data",
          "data": {
            "text/plain": [
              "<Figure size 504x504 with 1 Axes>"
            ],
            "image/png": "[encoded data removed]"
          },
          "metadata": {}
        }
      ]
    },
    {
      "cell_type": "markdown",
      "source": [
        "i. A pie chart, sometimes called a circle chart, is a way of summarizing a set of nominal data or displaying the different values of a given variable\n",
        "\n",
        "\n",
        "\n",
        "ii. In this pie plot there are more movies 69.14% than TV shows 30.86% in the dataset."
      ],
      "metadata": {
        "id": "UUNxhNanpYH5"
      }
    },
    {
      "cell_type": "markdown",
      "source": [
        "# **Chart-2**"
      ],
      "metadata": {
        "id": "EIkMst-Apa_a"
      }
    },
    {
      "cell_type": "code",
      "source": [
        "# Top actors for movies\n",
        "plt.figure(figsize=(10,5))\n",
        "netflix_df[~(netflix_df['cast']=='Unknown') & (netflix_df['type']=='Movie')].cast.value_counts().nlargest(10).plot(kind='barh')\n",
        "plt.title('Actors who have appeared in highest number of movies')"
      ],
      "metadata": {
        "colab": {
          "base_uri": "https://localhost:8080/",
          "height": 356
        },
        "id": "Fy5dnda7yrJH",
        "outputId": "a5142589-745c-4ea1-fd89-5a4341b97f88"
      },
      "execution_count": 34,
      "outputs": [
        {
          "output_type": "execute_result",
          "data": {
            "text/plain": [
              "Text(0.5, 1.0, 'Actors who have appeared in highest number of movies')"
            ]
          },
          "metadata": {},
          "execution_count": 34
        },
        {
          "output_type": "display_data",
          "data": {
            "text/plain": [
              "<Figure size 720x360 with 1 Axes>"
            ],
            "image/png": "[encoded data removed]"
          },
          "metadata": {}
        }
      ]
    },
    {
      "cell_type": "markdown",
      "source": [
        "i. A horizontal bar plot is a plot that presents quantitative data with rectangular bars with lengths proportional to the values that they represent. A bar plot shows comparisons among discrete categories. One axis of the plot shows the specific categories being compared, and the other axis represents a measured value.\n",
        "\n",
        "ii. In this graph we found Top actors for movies. Top one actor in movies are Samuel West and second highest actor are jeff Dunham and third highest actor of movies are Craig Sechler and Kevin Hart."
      ],
      "metadata": {
        "id": "221J1MTQyz70"
      }
    },
    {
      "cell_type": "markdown",
      "source": [
        "# **Chart-3**"
      ],
      "metadata": {
        "id": "PW3J-K2gy5iT"
      }
    },
    {
      "cell_type": "code",
      "source": [
        "# Top actors for TV shows\n",
        "plt.figure(figsize=(10,5))\n",
        "netflix_df[~(netflix_df['cast']=='Unknown') & (netflix_df['type']=='TV Show')].cast.value_counts().nlargest(10).plot(kind='barh')\n",
        "plt.title('Actors who have appeared in highest number of TV shows')"
      ],
      "metadata": {
        "colab": {
          "base_uri": "https://localhost:8080/",
          "height": 356
        },
        "id": "mamOeu_zy5y1",
        "outputId": "2dddfac4-81a4-4ec3-8894-795af3db1ac8"
      },
      "execution_count": 35,
      "outputs": [
        {
          "output_type": "execute_result",
          "data": {
            "text/plain": [
              "Text(0.5, 1.0, 'Actors who have appeared in highest number of TV shows')"
            ]
          },
          "metadata": {},
          "execution_count": 35
        },
        {
          "output_type": "display_data",
          "data": {
            "text/plain": [
              "<Figure size 720x360 with 1 Axes>"
            ],
            "image/png": "[encoded data removed]"
          },
          "metadata": {}
        }
      ]
    },
    {
      "cell_type": "markdown",
      "source": [
        "i. A horizontal bar plot is a plot that presents quantitative data with rectangular bars with lengths proportional to the values that they represent. A bar plot shows comparisons among discrete categories. One axis of the plot shows the specific categories being compared, and the other axis represents a measured value.\n",
        "\n",
        "ii. In this graph we found Actors who have appeared highest number of TV shows. Top one actor of TV Shows is David Attenborough and second highest actor in TV shows  many are there like Michela Luci,Jamie Watson,Anna Claire Bartlam,Dante Zee and Eric peterson."
      ],
      "metadata": {
        "id": "NNauH-HOy9Xg"
      }
    },
    {
      "cell_type": "markdown",
      "source": [
        "# **Chart-4**"
      ],
      "metadata": {
        "id": "bnWyAtfZzfbm"
      }
    },
    {
      "cell_type": "code",
      "source": [
        "# Top 10 directors in the dataset\n",
        "plt.figure(figsize=(10,5))\n",
        "netflix_df[~(netflix_df['director']=='Unknown')].director.value_counts().nlargest(10).plot(kind='bar')\n",
        "plt.title('Top 10 directors by number of shows directed')"
      ],
      "metadata": {
        "colab": {
          "base_uri": "https://localhost:8080/",
          "height": 476
        },
        "id": "5SoDlxj_pgno",
        "outputId": "8e3b1a5f-de19-4dd1-e30b-ba54c14bbcf4"
      },
      "execution_count": 36,
      "outputs": [
        {
          "output_type": "execute_result",
          "data": {
            "text/plain": [
              "Text(0.5, 1.0, 'Top 10 directors by number of shows directed')"
            ]
          },
          "metadata": {},
          "execution_count": 36
        },
        {
          "output_type": "display_data",
          "data": {
            "text/plain": [
              "<Figure size 720x360 with 1 Axes>"
            ],
            "image/png": "[encoded data removed]"
          },
          "metadata": {}
        }
      ]
    },
    {
      "cell_type": "markdown",
      "source": [
        "i. A barplot (or barchart) is one of the most common types of graphic. It shows the relationship between a numeric and a categoric variable. Each entity of the categoric variable is represented as a bar. The size of the bar represents its numeric value.\n",
        "\n",
        "**ii. In this Bar plot there are showing Top 10 directors by number of shows directed.**\n",
        "\n",
        "1.Raul Campos jan Suter is 1st director from top 10.\n",
        "\n",
        "2.Rayan Polito are top 10th director from top 10"
      ],
      "metadata": {
        "id": "HkgG6cqCrtfx"
      }
    },
    {
      "cell_type": "markdown",
      "source": [
        "# **Chart-5**"
      ],
      "metadata": {
        "id": "XcBo8rRfr-4Z"
      }
    },
    {
      "cell_type": "code",
      "source": [
        "# Visualizing the year in which the movie / tv show was released\n",
        "plt.figure(figsize=(10,5))\n",
        "sns.histplot(netflix_df['release_year'])\n",
        "plt.title('distribution by released year')"
      ],
      "metadata": {
        "colab": {
          "base_uri": "https://localhost:8080/",
          "height": 373
        },
        "id": "ArzDTaA7rtMC",
        "outputId": "44d59099-a4d2-47bb-c11b-b7641c0f1954"
      },
      "execution_count": 37,
      "outputs": [
        {
          "output_type": "execute_result",
          "data": {
            "text/plain": [
              "Text(0.5, 1.0, 'distribution by released year')"
            ]
          },
          "metadata": {},
          "execution_count": 37
        },
        {
          "output_type": "display_data",
          "data": {
            "text/plain": [
              "<Figure size 720x360 with 1 Axes>"
            ],
            "image/png": "[encoded data removed]"
          },
          "metadata": {}
        }
      ]
    },
    {
      "cell_type": "markdown",
      "source": [
        "i. In statistics, a histogram is a graphical representation of the distribution of data. The histogram is represented by a set of rectangles, adjacent to each other, where each bar represent a kind of data.\n",
        "\n",
        "ii. In this histogram we found release_year 2000 to 2020 more the the movie / tv show was released"
      ],
      "metadata": {
        "id": "KRr4YjHhsE74"
      }
    },
    {
      "cell_type": "markdown",
      "source": [
        "# **Chart-6**"
      ],
      "metadata": {
        "id": "s8VOsDr3tmoU"
      }
    },
    {
      "cell_type": "code",
      "source": [
        "# Top 10 genre for movies\n",
        "plt.figure(figsize=(10,5))\n",
        "netflix_df[netflix_df['type']=='TV Show'].listed_in.value_counts().nlargest(10).plot(kind='bar')\n",
        "plt.title('Top 10 genres for movies')"
      ],
      "metadata": {
        "colab": {
          "base_uri": "https://localhost:8080/",
          "height": 474
        },
        "id": "76I44BuDsxE-",
        "outputId": "3162dd08-ac66-4730-ebd7-d693d6e4132a"
      },
      "execution_count": 38,
      "outputs": [
        {
          "output_type": "execute_result",
          "data": {
            "text/plain": [
              "Text(0.5, 1.0, 'Top 10 genres for movies')"
            ]
          },
          "metadata": {},
          "execution_count": 38
        },
        {
          "output_type": "display_data",
          "data": {
            "text/plain": [
              "<Figure size 720x360 with 1 Axes>"
            ],
            "image/png": "[encoded data removed]"
          },
          "metadata": {}
        }
      ]
    },
    {
      "cell_type": "markdown",
      "source": [
        "i. A bar plot shows catergorical data as rectangular bars with the height of bars proportional to the value they represent. It is often used to compare between values of different categories in the data.\n",
        "\n",
        "ii. In this graph we found Top 10 genres for movies. International TV Shows are the highest number of genres type of TV shows and Crime TVShows and Kid's Shows are approximately same for generes type of TV shows."
      ],
      "metadata": {
        "id": "FwvxpUXvtJA1"
      }
    },
    {
      "cell_type": "markdown",
      "source": [
        "# **Chart-7**"
      ],
      "metadata": {
        "id": "30y_aj1utppR"
      }
    },
    {
      "cell_type": "code",
      "source": [
        "# Top 10 genre for movies\n",
        "plt.figure(figsize=(10,5))\n",
        "netflix_df[netflix_df['type']=='Movie'].listed_in.value_counts().nlargest(10).plot(kind='bar')\n",
        "plt.title('Top 10 genres for movies')"
      ],
      "metadata": {
        "colab": {
          "base_uri": "https://localhost:8080/",
          "height": 486
        },
        "id": "BDicMhgMs6He",
        "outputId": "369c1d16-8c7f-49c5-f451-b54c9088fb27"
      },
      "execution_count": 39,
      "outputs": [
        {
          "output_type": "execute_result",
          "data": {
            "text/plain": [
              "Text(0.5, 1.0, 'Top 10 genres for movies')"
            ]
          },
          "metadata": {},
          "execution_count": 39
        },
        {
          "output_type": "display_data",
          "data": {
            "text/plain": [
              "<Figure size 720x360 with 1 Axes>"
            ],
            "image/png": "[encoded data removed]"
          },
          "metadata": {}
        }
      ]
    },
    {
      "cell_type": "markdown",
      "source": [
        "i. A bar plot shows catergorical data as rectangular bars with the height of bars proportional to the value they represent. It is often used to compare between values of different categories in the data.\n",
        "\n",
        "ii. In this graph we found Top 10 genres for movies. Dramas are the highest number of genres type of movie followed by Comedies and Documentries."
      ],
      "metadata": {
        "id": "znCO0T3EtMYE"
      }
    },
    {
      "cell_type": "markdown",
      "source": [
        "# **Chart-8**"
      ],
      "metadata": {
        "id": "iLHk73Pztu4x"
      }
    },
    {
      "cell_type": "code",
      "source": [
        "# Number of shows added on different months\n",
        "plt.figure(figsize = (10,5)) \n",
        "sns.countplot(netflix_df['month_added'])\n",
        "plt.title('Shows added each month over the years')\n",
        "plt.xlabel('')"
      ],
      "metadata": {
        "colab": {
          "base_uri": "https://localhost:8080/",
          "height": 356
        },
        "id": "ukTtSnU-tvNT",
        "outputId": "2ea2439b-3116-45e1-e547-351b3ce9527b"
      },
      "execution_count": 40,
      "outputs": [
        {
          "output_type": "execute_result",
          "data": {
            "text/plain": [
              "Text(0.5, 0, '')"
            ]
          },
          "metadata": {},
          "execution_count": 40
        },
        {
          "output_type": "display_data",
          "data": {
            "text/plain": [
              "<Figure size 720x360 with 1 Axes>"
            ],
            "image/png": "[encoded data removed]"
          },
          "metadata": {}
        }
      ]
    },
    {
      "cell_type": "markdown",
      "source": [
        "i. in this count plot we found Number of shows added on different months.\n",
        "\n",
        "ii. December are the highest number of shows added on December and Octobor are the second highest number of shows added on. we see most of the shows addend in period of october to january."
      ],
      "metadata": {
        "id": "hOZu7t9at2Jj"
      }
    },
    {
      "cell_type": "markdown",
      "source": [
        "# **Chart-9**"
      ],
      "metadata": {
        "id": "YLd58WOZt17z"
      }
    },
    {
      "cell_type": "code",
      "source": [
        "# Number of shows added over the years\n",
        "plt.figure(figsize = (10,5)) \n",
        "sns.countplot(netflix_df['year_added'])\n",
        "plt.title('Number of shows added each year')\n",
        "plt.xlabel('')"
      ],
      "metadata": {
        "colab": {
          "base_uri": "https://localhost:8080/",
          "height": 356
        },
        "id": "_VG5CN-kt3Mp",
        "outputId": "ea84c7ba-360b-4de4-e47b-a29374e4953e"
      },
      "execution_count": 41,
      "outputs": [
        {
          "output_type": "execute_result",
          "data": {
            "text/plain": [
              "Text(0.5, 0, '')"
            ]
          },
          "metadata": {},
          "execution_count": 41
        },
        {
          "output_type": "display_data",
          "data": {
            "text/plain": [
              "<Figure size 720x360 with 1 Axes>"
            ],
            "image/png": "[encoded data removed]"
          },
          "metadata": {}
        }
      ]
    },
    {
      "cell_type": "markdown",
      "source": [
        "i. in this count plot we found Number of shows added on each different years.\n",
        "\n",
        "ii. 2019 are the highest number of shows added on and 2020 are the second highest number of shows added on and 2018 are the third highest number of shows added on"
      ],
      "metadata": {
        "id": "8e19cudit3vh"
      }
    },
    {
      "cell_type": "markdown",
      "source": [
        "# **Chart-10**"
      ],
      "metadata": {
        "id": "yOuI5ljSuUZd"
      }
    },
    {
      "cell_type": "code",
      "source": [
        "# Top 10 genres \n",
        "plt.figure(figsize=(10,5))\n",
        "netflix_df.listed_in.value_counts().nlargest(10).plot(kind='bar')\n",
        "plt.title('Top 10 genres')"
      ],
      "metadata": {
        "colab": {
          "base_uri": "https://localhost:8080/",
          "height": 486
        },
        "id": "6Gq44eOZuU2m",
        "outputId": "58b61315-c5a5-4f94-f861-d5a3e62560f7"
      },
      "execution_count": 42,
      "outputs": [
        {
          "output_type": "execute_result",
          "data": {
            "text/plain": [
              "Text(0.5, 1.0, 'Top 10 genres')"
            ]
          },
          "metadata": {},
          "execution_count": 42
        },
        {
          "output_type": "display_data",
          "data": {
            "text/plain": [
              "<Figure size 720x360 with 1 Axes>"
            ],
            "image/png": "[encoded data removed]"
          },
          "metadata": {}
        }
      ]
    },
    {
      "cell_type": "markdown",
      "source": [
        "i. A bar graph is a graphical representation of data in which we can highlight the category with particular shapes like a rectangle. The length and heights of the bar chart represent the data distributed in the dataset. In a bar chart, we have one axis representing a particular category of a column in the dataset and another axis representing the values or counts associated with it.  Bar charts can be plotted vertically or horizontally. A vertical bar chart is often called a column chart. \n",
        "\n",
        "ii. In this  bar plot we found Dramas are large value_counts of shows and movies and Comedies are the second large value_counts of shows and Movies."
      ],
      "metadata": {
        "id": "Lb1iFMcnudYv"
      }
    },
    {
      "cell_type": "markdown",
      "source": [
        "# **Chart-11**"
      ],
      "metadata": {
        "id": "h0_iVIkvuulY"
      }
    },
    {
      "cell_type": "code",
      "source": [
        "# Age ratings for shows in the dataset\n",
        "plt.figure(figsize=(10,5))\n",
        "sns.countplot(x='rating',data=netflix_df)"
      ],
      "metadata": {
        "colab": {
          "base_uri": "https://localhost:8080/",
          "height": 360
        },
        "id": "3osMAj6ZuvCQ",
        "outputId": "26f38aca-7caa-4448-dd99-921a44a31094"
      },
      "execution_count": 43,
      "outputs": [
        {
          "output_type": "execute_result",
          "data": {
            "text/plain": [
              "<matplotlib.axes._subplots.AxesSubplot at 0x7fea3b80d730>"
            ]
          },
          "metadata": {},
          "execution_count": 43
        },
        {
          "output_type": "display_data",
          "data": {
            "text/plain": [
              "<Figure size 720x360 with 1 Axes>"
            ],
            "image/png": "[encoded data removed]"
          },
          "metadata": {}
        }
      ]
    },
    {
      "cell_type": "markdown",
      "source": [
        "i. countplot() method is used to Show the counts of observations in each categorical bin using bars.\n",
        "\n",
        "ii. in this plot we found all rating count. TV-MA is the highest rating and second highest is TV-14 and third highest is TV-PG rating."
      ],
      "metadata": {
        "id": "2MVE5ciFu3z1"
      }
    },
    {
      "cell_type": "code",
      "source": [
        "# Changing the values in the rating column\n",
        "rating_map = {'TV-MA':'Adults',\n",
        "              'R':'Adults',\n",
        "              'PG-13':'Teens',\n",
        "              'TV-14':'Young Adults',\n",
        "              'TV-PG':'Older Kids',\n",
        "              'NR':'Adults',\n",
        "              'TV-G':'Kids',\n",
        "              'TV-Y':'Kids',\n",
        "              'TV-Y7':'Older Kids',\n",
        "              'PG':'Older Kids',\n",
        "              'G':'Kids',\n",
        "              'NC-17':'Adults',\n",
        "              'TV-Y7-FV':'Older Kids',\n",
        "              'UR':'Adults'}\n",
        "\n",
        "netflix_df['rating'].replace(rating_map, inplace = True)\n",
        "netflix_df['rating'].unique()"
      ],
      "metadata": {
        "colab": {
          "base_uri": "https://localhost:8080/"
        },
        "id": "Bq4Yzyztu7Ot",
        "outputId": "4d1bffca-b43b-4f53-dde4-6f85f8028d6a"
      },
      "execution_count": 44,
      "outputs": [
        {
          "output_type": "execute_result",
          "data": {
            "text/plain": [
              "array(['Adults', 'Teens', 'Young Adults', 'Older Kids', 'Kids'],\n",
              "      dtype=object)"
            ]
          },
          "metadata": {},
          "execution_count": 44
        }
      ]
    },
    {
      "cell_type": "code",
      "source": [
        "netflix_df['principal_country'] = netflix_df['country'].apply(lambda x: x.split(\",\")[0])\n",
        "netflix_df['principal_country'].head()\n",
        "\n"
      ],
      "metadata": {
        "colab": {
          "base_uri": "https://localhost:8080/"
        },
        "id": "3SgYDc_Nu-Aa",
        "outputId": "84cf2686-3ea7-4528-e162-047606a5e198"
      },
      "execution_count": 45,
      "outputs": [
        {
          "output_type": "execute_result",
          "data": {
            "text/plain": [
              "0           Brazil\n",
              "1           Mexico\n",
              "2        Singapore\n",
              "3    United States\n",
              "4    United States\n",
              "Name: principal_country, dtype: object"
            ]
          },
          "metadata": {},
          "execution_count": 45
        }
      ]
    },
    {
      "cell_type": "code",
      "source": [
        "country_order = netflix_df['principal_country'].value_counts()[:11].index\n",
        "content_data = netflix_df[['type', 'principal_country']].groupby('principal_country')['type'].value_counts().unstack().loc[country_order]\n",
        "content_data['sum'] = content_data.sum(axis=1)\n",
        "content_data_ratio = (content_data.T / content_data['sum']).T[['Movie', 'TV Show']].sort_values(by='Movie',ascending=False)[::-1]"
      ],
      "metadata": {
        "id": "rPEj-oTkvAYY"
      },
      "execution_count": 46,
      "outputs": []
    },
    {
      "cell_type": "code",
      "source": [
        "netflix_df['count'] = 1\n",
        "data = netflix_df.groupby('principal_country')[['principal_country','count']].sum().sort_values(by='count',ascending=False).reset_index()[:10]\n",
        "data = data['principal_country']\n",
        "\n"
      ],
      "metadata": {
        "id": "tqHRwoWqvEPv"
      },
      "execution_count": 47,
      "outputs": []
    },
    {
      "cell_type": "code",
      "source": [
        "Flix_df_heatmap = netflix_df.loc[netflix_df['principal_country'].isin(data)]\n",
        "Flix_df_heatmap = pd.crosstab(Flix_df_heatmap['principal_country'], Flix_df_heatmap['rating'],normalize = \"index\").T\n",
        "Flix_df_heatmap"
      ],
      "metadata": {
        "colab": {
          "base_uri": "https://localhost:8080/",
          "height": 237
        },
        "id": "zrdZPzX0vGi_",
        "outputId": "cc31e25f-ce6a-4999-acae-be8f12cc1739"
      },
      "execution_count": 48,
      "outputs": [
        {
          "output_type": "execute_result",
          "data": {
            "text/plain": [
              "principal_country    Canada    France     India     Japan    Mexico  \\\n",
              "rating                                                                \n",
              "Adults             0.467181  0.627551  0.259414  0.368644  0.764228   \n",
              "Kids               0.150579  0.086735  0.015690  0.008475  0.016260   \n",
              "Older Kids         0.220077  0.112245  0.163180  0.275424  0.089431   \n",
              "Teens              0.027027  0.030612  0.004184  0.012712  0.016260   \n",
              "Young Adults       0.135135  0.142857  0.557531  0.334746  0.113821   \n",
              "\n",
              "principal_country  South Korea     Spain  United Kingdom  United States  \\\n",
              "rating                                                                    \n",
              "Adults                0.463918  0.797619        0.526042       0.489051   \n",
              "Kids                  0.046392  0.035714        0.078125       0.074731   \n",
              "Older Kids            0.123711  0.053571        0.184028       0.196038   \n",
              "Teens                 0.000000  0.017857        0.071181       0.098366   \n",
              "Young Adults          0.365979  0.095238        0.140625       0.141814   \n",
              "\n",
              "principal_country   Unknown  \n",
              "rating                       \n",
              "Adults             0.320158  \n",
              "Kids               0.169960  \n",
              "Older Kids         0.235178  \n",
              "Teens              0.005929  \n",
              "Young Adults       0.268775  "
            ],
            "text/html": [
              "\n",
              "  <div id=\"df-beff8469-05c4-4bb5-a9ca-a9fd009075f9\">\n",
              "    <div class=\"colab-df-container\">\n",
              "      <div>\n",
              "<style scoped>\n",
              "    .dataframe tbody tr th:only-of-type {\n",
              "        vertical-align: middle;\n",
              "    }\n",
              "\n",
              "    .dataframe tbody tr th {\n",
              "        vertical-align: top;\n",
              "    }\n",
              "\n",
              "    .dataframe thead th {\n",
              "        text-align: right;\n",
              "    }\n",
              "</style>\n",
              "<table border=\"1\" class=\"dataframe\">\n",
              "  <thead>\n",
              "    <tr style=\"text-align: right;\">\n",
              "      <th>principal_country</th>\n",
              "      <th>Canada</th>\n",
              "      <th>France</th>\n",
              "      <th>India</th>\n",
              "      <th>Japan</th>\n",
              "      <th>Mexico</th>\n",
              "      <th>South Korea</th>\n",
              "      <th>Spain</th>\n",
              "      <th>United Kingdom</th>\n",
              "      <th>United States</th>\n",
              "      <th>Unknown</th>\n",
              "    </tr>\n",
              "    <tr>\n",
              "      <th>rating</th>\n",
              "      <th></th>\n",
              "      <th></th>\n",
              "      <th></th>\n",
              "      <th></th>\n",
              "      <th></th>\n",
              "      <th></th>\n",
              "      <th></th>\n",
              "      <th></th>\n",
              "      <th></th>\n",
              "      <th></th>\n",
              "    </tr>\n",
              "  </thead>\n",
              "  <tbody>\n",
              "    <tr>\n",
              "      <th>Adults</th>\n",
              "      <td>0.467181</td>\n",
              "      <td>0.627551</td>\n",
              "      <td>0.259414</td>\n",
              "      <td>0.368644</td>\n",
              "      <td>0.764228</td>\n",
              "      <td>0.463918</td>\n",
              "      <td>0.797619</td>\n",
              "      <td>0.526042</td>\n",
              "      <td>0.489051</td>\n",
              "      <td>0.320158</td>\n",
              "    </tr>\n",
              "    <tr>\n",
              "      <th>Kids</th>\n",
              "      <td>0.150579</td>\n",
              "      <td>0.086735</td>\n",
              "      <td>0.015690</td>\n",
              "      <td>0.008475</td>\n",
              "      <td>0.016260</td>\n",
              "      <td>0.046392</td>\n",
              "      <td>0.035714</td>\n",
              "      <td>0.078125</td>\n",
              "      <td>0.074731</td>\n",
              "      <td>0.169960</td>\n",
              "    </tr>\n",
              "    <tr>\n",
              "      <th>Older Kids</th>\n",
              "      <td>0.220077</td>\n",
              "      <td>0.112245</td>\n",
              "      <td>0.163180</td>\n",
              "      <td>0.275424</td>\n",
              "      <td>0.089431</td>\n",
              "      <td>0.123711</td>\n",
              "      <td>0.053571</td>\n",
              "      <td>0.184028</td>\n",
              "      <td>0.196038</td>\n",
              "      <td>0.235178</td>\n",
              "    </tr>\n",
              "    <tr>\n",
              "      <th>Teens</th>\n",
              "      <td>0.027027</td>\n",
              "      <td>0.030612</td>\n",
              "      <td>0.004184</td>\n",
              "      <td>0.012712</td>\n",
              "      <td>0.016260</td>\n",
              "      <td>0.000000</td>\n",
              "      <td>0.017857</td>\n",
              "      <td>0.071181</td>\n",
              "      <td>0.098366</td>\n",
              "      <td>0.005929</td>\n",
              "    </tr>\n",
              "    <tr>\n",
              "      <th>Young Adults</th>\n",
              "      <td>0.135135</td>\n",
              "      <td>0.142857</td>\n",
              "      <td>0.557531</td>\n",
              "      <td>0.334746</td>\n",
              "      <td>0.113821</td>\n",
              "      <td>0.365979</td>\n",
              "      <td>0.095238</td>\n",
              "      <td>0.140625</td>\n",
              "      <td>0.141814</td>\n",
              "      <td>0.268775</td>\n",
              "    </tr>\n",
              "  </tbody>\n",
              "</table>\n",
              "</div>\n",
              "      <button class=\"colab-df-convert\" onclick=\"convertToInteractive('df-beff8469-05c4-4bb5-a9ca-a9fd009075f9')\"\n",
              "              title=\"Convert this dataframe to an interactive table.\"\n",
              "              style=\"display:none;\">\n",
              "        \n",
              "  <svg xmlns=\"http://www.w3.org/2000/svg\" height=\"24px\"viewBox=\"0 0 24 24\"\n",
              "       width=\"24px\">\n",
              "    <path d=\"M0 0h24v24H0V0z\" fill=\"none\"/>\n",
              "    <path d=\"M18.56 5.44l.94 2.06.94-2.06 2.06-.94-2.06-.94-.94-2.06-.94 2.06-2.06.94zm-11 1L8.5 8.5l.94-2.06 2.06-.94-2.06-.94L8.5 2.5l-.94 2.06-2.06.94zm10 10l.94 2.06.94-2.06 2.06-.94-2.06-.94-.94-2.06-.94 2.06-2.06.94z\"/><path d=\"M17.41 7.96l-1.37-1.37c-.4-.4-.92-.59-1.43-.59-.52 0-1.04.2-1.43.59L10.3 9.45l-7.72 7.72c-.78.78-.78 2.05 0 2.83L4 21.41c.39.39.9.59 1.41.59.51 0 1.02-.2 1.41-.59l7.78-7.78 2.81-2.81c.8-.78.8-2.07 0-2.86zM5.41 20L4 18.59l7.72-7.72 1.47 1.35L5.41 20z\"/>\n",
              "  </svg>\n",
              "      </button>\n",
              "      \n",
              "  <style>\n",
              "    .colab-df-container {\n",
              "      display:flex;\n",
              "      flex-wrap:wrap;\n",
              "      gap: 12px;\n",
              "    }\n",
              "\n",
              "    .colab-df-convert {\n",
              "      background-color: #E8F0FE;\n",
              "      border: none;\n",
              "      border-radius: 50%;\n",
              "      cursor: pointer;\n",
              "      display: none;\n",
              "      fill: #1967D2;\n",
              "      height: 32px;\n",
              "      padding: 0 0 0 0;\n",
              "      width: 32px;\n",
              "    }\n",
              "\n",
              "    .colab-df-convert:hover {\n",
              "      background-color: #E2EBFA;\n",
              "      box-shadow: 0px 1px 2px rgba(60, 64, 67, 0.3), 0px 1px 3px 1px rgba(60, 64, 67, 0.15);\n",
              "      fill: #174EA6;\n",
              "    }\n",
              "\n",
              "    [theme=dark] .colab-df-convert {\n",
              "      background-color: #3B4455;\n",
              "      fill: #D2E3FC;\n",
              "    }\n",
              "\n",
              "    [theme=dark] .colab-df-convert:hover {\n",
              "      background-color: #434B5C;\n",
              "      box-shadow: 0px 1px 3px 1px rgba(0, 0, 0, 0.15);\n",
              "      filter: drop-shadow(0px 1px 2px rgba(0, 0, 0, 0.3));\n",
              "      fill: #FFFFFF;\n",
              "    }\n",
              "  </style>\n",
              "\n",
              "      <script>\n",
              "        const buttonEl =\n",
              "          document.querySelector('#df-beff8469-05c4-4bb5-a9ca-a9fd009075f9 button.colab-df-convert');\n",
              "        buttonEl.style.display =\n",
              "          google.colab.kernel.accessAllowed ? 'block' : 'none';\n",
              "\n",
              "        async function convertToInteractive(key) {\n",
              "          const element = document.querySelector('#df-beff8469-05c4-4bb5-a9ca-a9fd009075f9');\n",
              "          const dataTable =\n",
              "            await google.colab.kernel.invokeFunction('convertToInteractive',\n",
              "                                                     [key], {});\n",
              "          if (!dataTable) return;\n",
              "\n",
              "          const docLinkHtml = 'Like what you see? Visit the ' +\n",
              "            '<a target=\"_blank\" href=https://colab.research.google.com/notebooks/data_table.ipynb>data table notebook</a>'\n",
              "            + ' to learn more about interactive tables.';\n",
              "          element.innerHTML = '';\n",
              "          dataTable['output_type'] = 'display_data';\n",
              "          await google.colab.output.renderOutput(dataTable, element);\n",
              "          const docLink = document.createElement('div');\n",
              "          docLink.innerHTML = docLinkHtml;\n",
              "          element.appendChild(docLink);\n",
              "        }\n",
              "      </script>\n",
              "    </div>\n",
              "  </div>\n",
              "  "
            ]
          },
          "metadata": {},
          "execution_count": 48
        }
      ]
    },
    {
      "cell_type": "markdown",
      "source": [
        "# **Chart-12**"
      ],
      "metadata": {
        "id": "HXoI6a4DwKnI"
      }
    },
    {
      "cell_type": "markdown",
      "source": [
        " **Correlation Heatmap**"
      ],
      "metadata": {
        "id": "83LcmfJmwO1S"
      }
    },
    {
      "cell_type": "code",
      "source": [
        "# Plotting the heatmap\n",
        "fig, ax = plt.subplots(1, 1, figsize=(12, 12))\n",
        "country_order2 = ['United States', 'India', 'United Kingdom', 'Canada', 'Japan', 'France', 'South Korea', 'Spain',\n",
        "       'Mexico']\n",
        "\n",
        "age_order = ['Adults', 'Teens', 'Young Adults', 'Older Kids', 'Kids']\n",
        "\n",
        "sns.heatmap(Flix_df_heatmap.loc[age_order,country_order2],cmap=\"jet\",square=True, linewidth=2.5,cbar=False,\n",
        "            annot=True,fmt='2.0%',vmax=.6,vmin=0.05,ax=ax,annot_kws={\"fontsize\":15})\n",
        "\n",
        "ax.spines['top'].set_visible(True)\n",
        "\n",
        "fig.text(.76,.765, 'Target ages proportion of total content by country', fontweight='bold', fontfamily='serif', fontsize=15,ha='right')   \n",
        "\n",
        "ax.set_yticklabels(ax.get_yticklabels(), fontfamily='serif', rotation = 0, fontsize=11)\n",
        "ax.set_xticklabels(ax.get_xticklabels(), fontfamily='serif', rotation=90, fontsize=11)\n",
        "\n",
        "ax.set_ylabel('')    \n",
        "ax.set_xlabel('')\n",
        "ax.tick_params(axis=u'both', which=u'both',length=0)\n",
        "plt.tight_layout()\n",
        "plt.show()"
      ],
      "metadata": {
        "colab": {
          "base_uri": "https://localhost:8080/",
          "height": 577
        },
        "id": "fbgkxvDTwMYY",
        "outputId": "ddbe2687-ad47-40c0-c420-bd80a0b70688"
      },
      "execution_count": 49,
      "outputs": [
        {
          "output_type": "display_data",
          "data": {
            "text/plain": [
              "<Figure size 864x864 with 1 Axes>"
            ],
            "image/png": "[encoded data removed]"
          },
          "metadata": {}
        }
      ]
    },
    {
      "cell_type": "markdown",
      "source": [
        "i. A correlation matrix is a table showing correlation coefficients between variables. Each cell in the table shows the correlation between two variables. A correlation matrix is used to summarize data, as an input into a more advanced analysis, and as a diagnostic for advanced analyses. The range of correlation is [-1,1].\n",
        "\n",
        "ii. Thus to know the correlation between all the variables along with the correlation coefficients, i used correlation heatmap.\n",
        "\n",
        "iii. In this correlation Heatmap graph we found the Target ages proportion of total content by country."
      ],
      "metadata": {
        "id": "-c0zqIiZwa2x"
      }
    }
  ]
}